{
 "cells": [
  {
   "cell_type": "markdown",
   "metadata": {
    "id": "_oAq5r96vI36"
   },
   "source": [
    "1. Setting Up the Document Processing Pipeline\n",
    "In this step, we will load documents (PDFs, text files, and web pages), chunk the text, clean it, and prepare it for embedding.\n",
    "\n",
    "Import Required Libraries"
   ]
  },
  {
   "cell_type": "code",
   "execution_count": 1,
   "metadata": {
    "colab": {
     "base_uri": "https://localhost:8080/"
    },
    "id": "RNa2eenhvex6",
    "outputId": "d163a358-dd35-444c-d168-13c8c6ec7f96"
   },
   "outputs": [
    {
     "name": "stdout",
     "output_type": "stream",
     "text": [
      "Requirement already satisfied: openai in c:\\users\\anaha\\appdata\\local\\programs\\python\\python312\\lib\\site-packages (1.12.0)\n",
      "Requirement already satisfied: anyio<5,>=3.5.0 in c:\\users\\anaha\\appdata\\local\\programs\\python\\python312\\lib\\site-packages (from openai) (3.7.1)\n",
      "Requirement already satisfied: distro<2,>=1.7.0 in c:\\users\\anaha\\appdata\\local\\programs\\python\\python312\\lib\\site-packages (from openai) (1.9.0)\n",
      "Requirement already satisfied: httpx<1,>=0.23.0 in c:\\users\\anaha\\appdata\\local\\programs\\python\\python312\\lib\\site-packages (from openai) (0.27.0)\n",
      "Requirement already satisfied: pydantic<3,>=1.9.0 in c:\\users\\anaha\\appdata\\local\\programs\\python\\python312\\lib\\site-packages (from openai) (2.5.2)\n",
      "Requirement already satisfied: sniffio in c:\\users\\anaha\\appdata\\local\\programs\\python\\python312\\lib\\site-packages (from openai) (1.3.1)\n",
      "Requirement already satisfied: tqdm>4 in c:\\users\\anaha\\appdata\\local\\programs\\python\\python312\\lib\\site-packages (from openai) (4.67.0)\n",
      "Requirement already satisfied: typing-extensions<5,>=4.7 in c:\\users\\anaha\\appdata\\local\\programs\\python\\python312\\lib\\site-packages (from openai) (4.12.2)\n",
      "Requirement already satisfied: idna>=2.8 in c:\\users\\anaha\\appdata\\local\\programs\\python\\python312\\lib\\site-packages (from anyio<5,>=3.5.0->openai) (3.7)\n",
      "Requirement already satisfied: certifi in c:\\users\\anaha\\appdata\\local\\programs\\python\\python312\\lib\\site-packages (from httpx<1,>=0.23.0->openai) (2024.7.4)\n",
      "Requirement already satisfied: httpcore==1.* in c:\\users\\anaha\\appdata\\local\\programs\\python\\python312\\lib\\site-packages (from httpx<1,>=0.23.0->openai) (1.0.5)\n",
      "Requirement already satisfied: h11<0.15,>=0.13 in c:\\users\\anaha\\appdata\\local\\programs\\python\\python312\\lib\\site-packages (from httpcore==1.*->httpx<1,>=0.23.0->openai) (0.14.0)\n",
      "Requirement already satisfied: annotated-types>=0.4.0 in c:\\users\\anaha\\appdata\\local\\programs\\python\\python312\\lib\\site-packages (from pydantic<3,>=1.9.0->openai) (0.7.0)\n",
      "Requirement already satisfied: pydantic-core==2.14.5 in c:\\users\\anaha\\appdata\\local\\programs\\python\\python312\\lib\\site-packages (from pydantic<3,>=1.9.0->openai) (2.14.5)\n",
      "Requirement already satisfied: colorama in c:\\users\\anaha\\appdata\\local\\programs\\python\\python312\\lib\\site-packages (from tqdm>4->openai) (0.4.6)\n",
      "Requirement already satisfied: chromadb in c:\\users\\anaha\\appdata\\local\\programs\\python\\python312\\lib\\site-packages (0.5.20)\n",
      "Requirement already satisfied: build>=1.0.3 in c:\\users\\anaha\\appdata\\local\\programs\\python\\python312\\lib\\site-packages (from chromadb) (1.2.2.post1)\n",
      "Requirement already satisfied: pydantic>=1.9 in c:\\users\\anaha\\appdata\\local\\programs\\python\\python312\\lib\\site-packages (from chromadb) (2.5.2)\n",
      "Requirement already satisfied: chroma-hnswlib==0.7.6 in c:\\users\\anaha\\appdata\\local\\programs\\python\\python312\\lib\\site-packages (from chromadb) (0.7.6)\n",
      "Requirement already satisfied: fastapi>=0.95.2 in c:\\users\\anaha\\appdata\\local\\programs\\python\\python312\\lib\\site-packages (from chromadb) (0.115.5)\n",
      "Requirement already satisfied: uvicorn>=0.18.3 in c:\\users\\anaha\\appdata\\local\\programs\\python\\python312\\lib\\site-packages (from uvicorn[standard]>=0.18.3->chromadb) (0.24.0)\n",
      "Requirement already satisfied: numpy>=1.22.5 in c:\\users\\anaha\\appdata\\local\\programs\\python\\python312\\lib\\site-packages (from chromadb) (2.0.2)\n",
      "Requirement already satisfied: posthog>=2.4.0 in c:\\users\\anaha\\appdata\\local\\programs\\python\\python312\\lib\\site-packages (from chromadb) (3.7.0)\n",
      "Requirement already satisfied: typing-extensions>=4.5.0 in c:\\users\\anaha\\appdata\\local\\programs\\python\\python312\\lib\\site-packages (from chromadb) (4.12.2)\n",
      "Requirement already satisfied: onnxruntime>=1.14.1 in c:\\users\\anaha\\appdata\\local\\programs\\python\\python312\\lib\\site-packages (from chromadb) (1.20.0)\n",
      "Requirement already satisfied: opentelemetry-api>=1.2.0 in c:\\users\\anaha\\appdata\\local\\programs\\python\\python312\\lib\\site-packages (from chromadb) (1.28.1)\n",
      "Requirement already satisfied: opentelemetry-exporter-otlp-proto-grpc>=1.2.0 in c:\\users\\anaha\\appdata\\local\\programs\\python\\python312\\lib\\site-packages (from chromadb) (1.28.1)\n",
      "Requirement already satisfied: opentelemetry-instrumentation-fastapi>=0.41b0 in c:\\users\\anaha\\appdata\\local\\programs\\python\\python312\\lib\\site-packages (from chromadb) (0.49b1)\n",
      "Requirement already satisfied: opentelemetry-sdk>=1.2.0 in c:\\users\\anaha\\appdata\\local\\programs\\python\\python312\\lib\\site-packages (from chromadb) (1.28.1)\n",
      "Requirement already satisfied: tokenizers>=0.13.2 in c:\\users\\anaha\\appdata\\local\\programs\\python\\python312\\lib\\site-packages (from chromadb) (0.20.3)\n",
      "Requirement already satisfied: pypika>=0.48.9 in c:\\users\\anaha\\appdata\\local\\programs\\python\\python312\\lib\\site-packages (from chromadb) (0.48.9)\n",
      "Requirement already satisfied: tqdm>=4.65.0 in c:\\users\\anaha\\appdata\\local\\programs\\python\\python312\\lib\\site-packages (from chromadb) (4.67.0)\n",
      "Requirement already satisfied: overrides>=7.3.1 in c:\\users\\anaha\\appdata\\local\\programs\\python\\python312\\lib\\site-packages (from chromadb) (7.7.0)\n",
      "Requirement already satisfied: importlib-resources in c:\\users\\anaha\\appdata\\local\\programs\\python\\python312\\lib\\site-packages (from chromadb) (6.4.5)\n",
      "Requirement already satisfied: grpcio>=1.58.0 in c:\\users\\anaha\\appdata\\local\\programs\\python\\python312\\lib\\site-packages (from chromadb) (1.67.1)\n",
      "Requirement already satisfied: bcrypt>=4.0.1 in c:\\users\\anaha\\appdata\\local\\programs\\python\\python312\\lib\\site-packages (from chromadb) (4.2.0)\n",
      "Requirement already satisfied: typer>=0.9.0 in c:\\users\\anaha\\appdata\\local\\programs\\python\\python312\\lib\\site-packages (from chromadb) (0.13.0)\n",
      "Requirement already satisfied: kubernetes>=28.1.0 in c:\\users\\anaha\\appdata\\local\\programs\\python\\python312\\lib\\site-packages (from chromadb) (31.0.0)\n",
      "Requirement already satisfied: tenacity>=8.2.3 in c:\\users\\anaha\\appdata\\local\\programs\\python\\python312\\lib\\site-packages (from chromadb) (9.0.0)\n",
      "Requirement already satisfied: PyYAML>=6.0.0 in c:\\users\\anaha\\appdata\\local\\programs\\python\\python312\\lib\\site-packages (from chromadb) (6.0.2)\n",
      "Requirement already satisfied: mmh3>=4.0.1 in c:\\users\\anaha\\appdata\\local\\programs\\python\\python312\\lib\\site-packages (from chromadb) (5.0.1)\n",
      "Requirement already satisfied: orjson>=3.9.12 in c:\\users\\anaha\\appdata\\local\\programs\\python\\python312\\lib\\site-packages (from chromadb) (3.10.11)\n",
      "Requirement already satisfied: httpx>=0.27.0 in c:\\users\\anaha\\appdata\\local\\programs\\python\\python312\\lib\\site-packages (from chromadb) (0.27.0)\n",
      "Requirement already satisfied: rich>=10.11.0 in c:\\users\\anaha\\appdata\\local\\programs\\python\\python312\\lib\\site-packages (from chromadb) (13.9.4)\n",
      "Requirement already satisfied: packaging>=19.1 in c:\\users\\anaha\\appdata\\local\\programs\\python\\python312\\lib\\site-packages (from build>=1.0.3->chromadb) (24.1)\n",
      "Requirement already satisfied: pyproject_hooks in c:\\users\\anaha\\appdata\\local\\programs\\python\\python312\\lib\\site-packages (from build>=1.0.3->chromadb) (1.2.0)\n",
      "Requirement already satisfied: colorama in c:\\users\\anaha\\appdata\\local\\programs\\python\\python312\\lib\\site-packages (from build>=1.0.3->chromadb) (0.4.6)\n",
      "Requirement already satisfied: starlette<0.42.0,>=0.40.0 in c:\\users\\anaha\\appdata\\local\\programs\\python\\python312\\lib\\site-packages (from fastapi>=0.95.2->chromadb) (0.41.3)\n",
      "Requirement already satisfied: anyio in c:\\users\\anaha\\appdata\\local\\programs\\python\\python312\\lib\\site-packages (from httpx>=0.27.0->chromadb) (3.7.1)\n",
      "Requirement already satisfied: certifi in c:\\users\\anaha\\appdata\\local\\programs\\python\\python312\\lib\\site-packages (from httpx>=0.27.0->chromadb) (2024.7.4)\n",
      "Requirement already satisfied: httpcore==1.* in c:\\users\\anaha\\appdata\\local\\programs\\python\\python312\\lib\\site-packages (from httpx>=0.27.0->chromadb) (1.0.5)\n",
      "Requirement already satisfied: idna in c:\\users\\anaha\\appdata\\local\\programs\\python\\python312\\lib\\site-packages (from httpx>=0.27.0->chromadb) (3.7)\n",
      "Requirement already satisfied: sniffio in c:\\users\\anaha\\appdata\\local\\programs\\python\\python312\\lib\\site-packages (from httpx>=0.27.0->chromadb) (1.3.1)\n",
      "Requirement already satisfied: h11<0.15,>=0.13 in c:\\users\\anaha\\appdata\\local\\programs\\python\\python312\\lib\\site-packages (from httpcore==1.*->httpx>=0.27.0->chromadb) (0.14.0)\n",
      "Requirement already satisfied: six>=1.9.0 in c:\\users\\anaha\\appdata\\local\\programs\\python\\python312\\lib\\site-packages (from kubernetes>=28.1.0->chromadb) (1.16.0)\n",
      "Requirement already satisfied: python-dateutil>=2.5.3 in c:\\users\\anaha\\appdata\\local\\programs\\python\\python312\\lib\\site-packages (from kubernetes>=28.1.0->chromadb) (2.9.0.post0)\n",
      "Requirement already satisfied: google-auth>=1.0.1 in c:\\users\\anaha\\appdata\\local\\programs\\python\\python312\\lib\\site-packages (from kubernetes>=28.1.0->chromadb) (2.35.0)\n",
      "Requirement already satisfied: websocket-client!=0.40.0,!=0.41.*,!=0.42.*,>=0.32.0 in c:\\users\\anaha\\appdata\\local\\programs\\python\\python312\\lib\\site-packages (from kubernetes>=28.1.0->chromadb) (1.8.0)\n",
      "Requirement already satisfied: requests in c:\\users\\anaha\\appdata\\local\\programs\\python\\python312\\lib\\site-packages (from kubernetes>=28.1.0->chromadb) (2.31.0)\n",
      "Requirement already satisfied: requests-oauthlib in c:\\users\\anaha\\appdata\\local\\programs\\python\\python312\\lib\\site-packages (from kubernetes>=28.1.0->chromadb) (2.0.0)\n",
      "Requirement already satisfied: oauthlib>=3.2.2 in c:\\users\\anaha\\appdata\\local\\programs\\python\\python312\\lib\\site-packages (from kubernetes>=28.1.0->chromadb) (3.2.2)\n",
      "Requirement already satisfied: urllib3>=1.24.2 in c:\\users\\anaha\\appdata\\local\\programs\\python\\python312\\lib\\site-packages (from kubernetes>=28.1.0->chromadb) (2.2.2)\n",
      "Requirement already satisfied: durationpy>=0.7 in c:\\users\\anaha\\appdata\\local\\programs\\python\\python312\\lib\\site-packages (from kubernetes>=28.1.0->chromadb) (0.9)\n",
      "Requirement already satisfied: coloredlogs in c:\\users\\anaha\\appdata\\local\\programs\\python\\python312\\lib\\site-packages (from onnxruntime>=1.14.1->chromadb) (15.0.1)\n",
      "Requirement already satisfied: flatbuffers in c:\\users\\anaha\\appdata\\local\\programs\\python\\python312\\lib\\site-packages (from onnxruntime>=1.14.1->chromadb) (24.3.25)\n",
      "Requirement already satisfied: protobuf in c:\\users\\anaha\\appdata\\local\\programs\\python\\python312\\lib\\site-packages (from onnxruntime>=1.14.1->chromadb) (5.28.2)\n",
      "Requirement already satisfied: sympy in c:\\users\\anaha\\appdata\\local\\programs\\python\\python312\\lib\\site-packages (from onnxruntime>=1.14.1->chromadb) (1.13.1)\n",
      "Requirement already satisfied: deprecated>=1.2.6 in c:\\users\\anaha\\appdata\\local\\programs\\python\\python312\\lib\\site-packages (from opentelemetry-api>=1.2.0->chromadb) (1.2.14)\n",
      "Requirement already satisfied: importlib-metadata<=8.5.0,>=6.0 in c:\\users\\anaha\\appdata\\local\\programs\\python\\python312\\lib\\site-packages (from opentelemetry-api>=1.2.0->chromadb) (8.5.0)\n",
      "Requirement already satisfied: googleapis-common-protos~=1.52 in c:\\users\\anaha\\appdata\\local\\programs\\python\\python312\\lib\\site-packages (from opentelemetry-exporter-otlp-proto-grpc>=1.2.0->chromadb) (1.65.0)\n",
      "Requirement already satisfied: opentelemetry-exporter-otlp-proto-common==1.28.1 in c:\\users\\anaha\\appdata\\local\\programs\\python\\python312\\lib\\site-packages (from opentelemetry-exporter-otlp-proto-grpc>=1.2.0->chromadb) (1.28.1)\n",
      "Requirement already satisfied: opentelemetry-proto==1.28.1 in c:\\users\\anaha\\appdata\\local\\programs\\python\\python312\\lib\\site-packages (from opentelemetry-exporter-otlp-proto-grpc>=1.2.0->chromadb) (1.28.1)\n",
      "Requirement already satisfied: opentelemetry-instrumentation-asgi==0.49b1 in c:\\users\\anaha\\appdata\\local\\programs\\python\\python312\\lib\\site-packages (from opentelemetry-instrumentation-fastapi>=0.41b0->chromadb) (0.49b1)\n",
      "Requirement already satisfied: opentelemetry-instrumentation==0.49b1 in c:\\users\\anaha\\appdata\\local\\programs\\python\\python312\\lib\\site-packages (from opentelemetry-instrumentation-fastapi>=0.41b0->chromadb) (0.49b1)\n",
      "Requirement already satisfied: opentelemetry-semantic-conventions==0.49b1 in c:\\users\\anaha\\appdata\\local\\programs\\python\\python312\\lib\\site-packages (from opentelemetry-instrumentation-fastapi>=0.41b0->chromadb) (0.49b1)\n",
      "Requirement already satisfied: opentelemetry-util-http==0.49b1 in c:\\users\\anaha\\appdata\\local\\programs\\python\\python312\\lib\\site-packages (from opentelemetry-instrumentation-fastapi>=0.41b0->chromadb) (0.49b1)\n",
      "Requirement already satisfied: wrapt<2.0.0,>=1.0.0 in c:\\users\\anaha\\appdata\\local\\programs\\python\\python312\\lib\\site-packages (from opentelemetry-instrumentation==0.49b1->opentelemetry-instrumentation-fastapi>=0.41b0->chromadb) (1.16.0)\n",
      "Requirement already satisfied: asgiref~=3.0 in c:\\users\\anaha\\appdata\\local\\programs\\python\\python312\\lib\\site-packages (from opentelemetry-instrumentation-asgi==0.49b1->opentelemetry-instrumentation-fastapi>=0.41b0->chromadb) (3.8.1)\n",
      "Requirement already satisfied: monotonic>=1.5 in c:\\users\\anaha\\appdata\\local\\programs\\python\\python312\\lib\\site-packages (from posthog>=2.4.0->chromadb) (1.6)\n",
      "Requirement already satisfied: backoff>=1.10.0 in c:\\users\\anaha\\appdata\\local\\programs\\python\\python312\\lib\\site-packages (from posthog>=2.4.0->chromadb) (2.2.1)\n",
      "Requirement already satisfied: annotated-types>=0.4.0 in c:\\users\\anaha\\appdata\\local\\programs\\python\\python312\\lib\\site-packages (from pydantic>=1.9->chromadb) (0.7.0)\n",
      "Requirement already satisfied: pydantic-core==2.14.5 in c:\\users\\anaha\\appdata\\local\\programs\\python\\python312\\lib\\site-packages (from pydantic>=1.9->chromadb) (2.14.5)\n",
      "Requirement already satisfied: markdown-it-py>=2.2.0 in c:\\users\\anaha\\appdata\\local\\programs\\python\\python312\\lib\\site-packages (from rich>=10.11.0->chromadb) (3.0.0)\n",
      "Requirement already satisfied: pygments<3.0.0,>=2.13.0 in c:\\users\\anaha\\appdata\\local\\programs\\python\\python312\\lib\\site-packages (from rich>=10.11.0->chromadb) (2.18.0)\n",
      "Requirement already satisfied: huggingface-hub<1.0,>=0.16.4 in c:\\users\\anaha\\appdata\\local\\programs\\python\\python312\\lib\\site-packages (from tokenizers>=0.13.2->chromadb) (0.26.3)\n",
      "Requirement already satisfied: click>=8.0.0 in c:\\users\\anaha\\appdata\\local\\programs\\python\\python312\\lib\\site-packages (from typer>=0.9.0->chromadb) (8.1.7)\n",
      "Requirement already satisfied: shellingham>=1.3.0 in c:\\users\\anaha\\appdata\\local\\programs\\python\\python312\\lib\\site-packages (from typer>=0.9.0->chromadb) (1.5.4)\n",
      "Requirement already satisfied: httptools>=0.5.0 in c:\\users\\anaha\\appdata\\local\\programs\\python\\python312\\lib\\site-packages (from uvicorn[standard]>=0.18.3->chromadb) (0.6.4)\n",
      "Requirement already satisfied: python-dotenv>=0.13 in c:\\users\\anaha\\appdata\\local\\programs\\python\\python312\\lib\\site-packages (from uvicorn[standard]>=0.18.3->chromadb) (1.0.1)\n",
      "Requirement already satisfied: watchfiles>=0.13 in c:\\users\\anaha\\appdata\\local\\programs\\python\\python312\\lib\\site-packages (from uvicorn[standard]>=0.18.3->chromadb) (0.24.0)\n",
      "Requirement already satisfied: websockets>=10.4 in c:\\users\\anaha\\appdata\\local\\programs\\python\\python312\\lib\\site-packages (from uvicorn[standard]>=0.18.3->chromadb) (11.0.3)\n",
      "Requirement already satisfied: cachetools<6.0,>=2.0.0 in c:\\users\\anaha\\appdata\\local\\programs\\python\\python312\\lib\\site-packages (from google-auth>=1.0.1->kubernetes>=28.1.0->chromadb) (5.5.0)\n",
      "Requirement already satisfied: pyasn1-modules>=0.2.1 in c:\\users\\anaha\\appdata\\local\\programs\\python\\python312\\lib\\site-packages (from google-auth>=1.0.1->kubernetes>=28.1.0->chromadb) (0.4.1)\n",
      "Requirement already satisfied: rsa<5,>=3.1.4 in c:\\users\\anaha\\appdata\\local\\programs\\python\\python312\\lib\\site-packages (from google-auth>=1.0.1->kubernetes>=28.1.0->chromadb) (4.9)\n",
      "Requirement already satisfied: filelock in c:\\users\\anaha\\appdata\\local\\programs\\python\\python312\\lib\\site-packages (from huggingface-hub<1.0,>=0.16.4->tokenizers>=0.13.2->chromadb) (3.16.1)\n",
      "Requirement already satisfied: fsspec>=2023.5.0 in c:\\users\\anaha\\appdata\\local\\programs\\python\\python312\\lib\\site-packages (from huggingface-hub<1.0,>=0.16.4->tokenizers>=0.13.2->chromadb) (2024.10.0)\n",
      "Requirement already satisfied: zipp>=3.20 in c:\\users\\anaha\\appdata\\local\\programs\\python\\python312\\lib\\site-packages (from importlib-metadata<=8.5.0,>=6.0->opentelemetry-api>=1.2.0->chromadb) (3.20.2)\n",
      "Requirement already satisfied: mdurl~=0.1 in c:\\users\\anaha\\appdata\\local\\programs\\python\\python312\\lib\\site-packages (from markdown-it-py>=2.2.0->rich>=10.11.0->chromadb) (0.1.2)\n",
      "Requirement already satisfied: charset-normalizer<4,>=2 in c:\\users\\anaha\\appdata\\local\\programs\\python\\python312\\lib\\site-packages (from requests->kubernetes>=28.1.0->chromadb) (3.3.2)\n",
      "Requirement already satisfied: humanfriendly>=9.1 in c:\\users\\anaha\\appdata\\local\\programs\\python\\python312\\lib\\site-packages (from coloredlogs->onnxruntime>=1.14.1->chromadb) (10.0)\n",
      "Requirement already satisfied: mpmath<1.4,>=1.1.0 in c:\\users\\anaha\\appdata\\local\\programs\\python\\python312\\lib\\site-packages (from sympy->onnxruntime>=1.14.1->chromadb) (1.3.0)\n",
      "Requirement already satisfied: pyreadline3 in c:\\users\\anaha\\appdata\\local\\programs\\python\\python312\\lib\\site-packages (from humanfriendly>=9.1->coloredlogs->onnxruntime>=1.14.1->chromadb) (3.5.4)\n",
      "Requirement already satisfied: pyasn1<0.7.0,>=0.4.6 in c:\\users\\anaha\\appdata\\local\\programs\\python\\python312\\lib\\site-packages (from pyasn1-modules>=0.2.1->google-auth>=1.0.1->kubernetes>=28.1.0->chromadb) (0.6.1)\n",
      "Requirement already satisfied: PyMuPDF in c:\\users\\anaha\\appdata\\local\\programs\\python\\python312\\lib\\site-packages (1.24.14)\n",
      "Requirement already satisfied: requests in c:\\users\\anaha\\appdata\\local\\programs\\python\\python312\\lib\\site-packages (2.31.0)\n",
      "Requirement already satisfied: charset-normalizer<4,>=2 in c:\\users\\anaha\\appdata\\local\\programs\\python\\python312\\lib\\site-packages (from requests) (3.3.2)\n",
      "Requirement already satisfied: idna<4,>=2.5 in c:\\users\\anaha\\appdata\\local\\programs\\python\\python312\\lib\\site-packages (from requests) (3.7)\n",
      "Requirement already satisfied: urllib3<3,>=1.21.1 in c:\\users\\anaha\\appdata\\local\\programs\\python\\python312\\lib\\site-packages (from requests) (2.2.2)\n",
      "Requirement already satisfied: certifi>=2017.4.17 in c:\\users\\anaha\\appdata\\local\\programs\\python\\python312\\lib\\site-packages (from requests) (2024.7.4)\n",
      "Requirement already satisfied: beautifulsoup4 in c:\\users\\anaha\\appdata\\local\\programs\\python\\python312\\lib\\site-packages (4.12.3)\n",
      "Requirement already satisfied: soupsieve>1.2 in c:\\users\\anaha\\appdata\\local\\programs\\python\\python312\\lib\\site-packages (from beautifulsoup4) (2.6)\n",
      "Requirement already satisfied: transformers in c:\\users\\anaha\\appdata\\local\\programs\\python\\python312\\lib\\site-packages (4.46.3)\n",
      "Requirement already satisfied: filelock in c:\\users\\anaha\\appdata\\local\\programs\\python\\python312\\lib\\site-packages (from transformers) (3.16.1)\n",
      "Requirement already satisfied: huggingface-hub<1.0,>=0.23.2 in c:\\users\\anaha\\appdata\\local\\programs\\python\\python312\\lib\\site-packages (from transformers) (0.26.3)\n",
      "Requirement already satisfied: numpy>=1.17 in c:\\users\\anaha\\appdata\\local\\programs\\python\\python312\\lib\\site-packages (from transformers) (2.0.2)\n",
      "Requirement already satisfied: packaging>=20.0 in c:\\users\\anaha\\appdata\\local\\programs\\python\\python312\\lib\\site-packages (from transformers) (24.1)\n",
      "Requirement already satisfied: pyyaml>=5.1 in c:\\users\\anaha\\appdata\\local\\programs\\python\\python312\\lib\\site-packages (from transformers) (6.0.2)\n",
      "Requirement already satisfied: regex!=2019.12.17 in c:\\users\\anaha\\appdata\\local\\programs\\python\\python312\\lib\\site-packages (from transformers) (2024.11.6)\n",
      "Requirement already satisfied: requests in c:\\users\\anaha\\appdata\\local\\programs\\python\\python312\\lib\\site-packages (from transformers) (2.31.0)\n",
      "Requirement already satisfied: tokenizers<0.21,>=0.20 in c:\\users\\anaha\\appdata\\local\\programs\\python\\python312\\lib\\site-packages (from transformers) (0.20.3)\n",
      "Requirement already satisfied: safetensors>=0.4.1 in c:\\users\\anaha\\appdata\\local\\programs\\python\\python312\\lib\\site-packages (from transformers) (0.4.5)\n",
      "Requirement already satisfied: tqdm>=4.27 in c:\\users\\anaha\\appdata\\local\\programs\\python\\python312\\lib\\site-packages (from transformers) (4.67.0)\n",
      "Requirement already satisfied: fsspec>=2023.5.0 in c:\\users\\anaha\\appdata\\local\\programs\\python\\python312\\lib\\site-packages (from huggingface-hub<1.0,>=0.23.2->transformers) (2024.10.0)\n",
      "Requirement already satisfied: typing-extensions>=3.7.4.3 in c:\\users\\anaha\\appdata\\local\\programs\\python\\python312\\lib\\site-packages (from huggingface-hub<1.0,>=0.23.2->transformers) (4.12.2)\n",
      "Requirement already satisfied: colorama in c:\\users\\anaha\\appdata\\local\\programs\\python\\python312\\lib\\site-packages (from tqdm>=4.27->transformers) (0.4.6)\n",
      "Requirement already satisfied: charset-normalizer<4,>=2 in c:\\users\\anaha\\appdata\\local\\programs\\python\\python312\\lib\\site-packages (from requests->transformers) (3.3.2)\n",
      "Requirement already satisfied: idna<4,>=2.5 in c:\\users\\anaha\\appdata\\local\\programs\\python\\python312\\lib\\site-packages (from requests->transformers) (3.7)\n",
      "Requirement already satisfied: urllib3<3,>=1.21.1 in c:\\users\\anaha\\appdata\\local\\programs\\python\\python312\\lib\\site-packages (from requests->transformers) (2.2.2)\n",
      "Requirement already satisfied: certifi>=2017.4.17 in c:\\users\\anaha\\appdata\\local\\programs\\python\\python312\\lib\\site-packages (from requests->transformers) (2024.7.4)\n",
      "Requirement already satisfied: gradio in c:\\users\\anaha\\appdata\\local\\programs\\python\\python312\\lib\\site-packages (5.7.1)\n",
      "Requirement already satisfied: aiofiles<24.0,>=22.0 in c:\\users\\anaha\\appdata\\local\\programs\\python\\python312\\lib\\site-packages (from gradio) (23.2.1)\n",
      "Requirement already satisfied: anyio<5.0,>=3.0 in c:\\users\\anaha\\appdata\\local\\programs\\python\\python312\\lib\\site-packages (from gradio) (3.7.1)\n",
      "Requirement already satisfied: fastapi<1.0,>=0.115.2 in c:\\users\\anaha\\appdata\\local\\programs\\python\\python312\\lib\\site-packages (from gradio) (0.115.5)\n",
      "Requirement already satisfied: ffmpy in c:\\users\\anaha\\appdata\\local\\programs\\python\\python312\\lib\\site-packages (from gradio) (0.4.0)\n",
      "Requirement already satisfied: gradio-client==1.5.0 in c:\\users\\anaha\\appdata\\local\\programs\\python\\python312\\lib\\site-packages (from gradio) (1.5.0)\n",
      "Requirement already satisfied: httpx>=0.24.1 in c:\\users\\anaha\\appdata\\local\\programs\\python\\python312\\lib\\site-packages (from gradio) (0.27.0)\n",
      "Requirement already satisfied: huggingface-hub>=0.25.1 in c:\\users\\anaha\\appdata\\local\\programs\\python\\python312\\lib\\site-packages (from gradio) (0.26.3)\n",
      "Requirement already satisfied: jinja2<4.0 in c:\\users\\anaha\\appdata\\local\\programs\\python\\python312\\lib\\site-packages (from gradio) (3.1.4)\n",
      "Requirement already satisfied: markupsafe~=2.0 in c:\\users\\anaha\\appdata\\local\\programs\\python\\python312\\lib\\site-packages (from gradio) (2.1.5)\n",
      "Requirement already satisfied: numpy<3.0,>=1.0 in c:\\users\\anaha\\appdata\\local\\programs\\python\\python312\\lib\\site-packages (from gradio) (2.0.2)\n",
      "Requirement already satisfied: orjson~=3.0 in c:\\users\\anaha\\appdata\\local\\programs\\python\\python312\\lib\\site-packages (from gradio) (3.10.11)\n",
      "Requirement already satisfied: packaging in c:\\users\\anaha\\appdata\\local\\programs\\python\\python312\\lib\\site-packages (from gradio) (24.1)\n",
      "Requirement already satisfied: pandas<3.0,>=1.0 in c:\\users\\anaha\\appdata\\local\\programs\\python\\python312\\lib\\site-packages (from gradio) (2.2.3)\n",
      "Requirement already satisfied: pillow<12.0,>=8.0 in c:\\users\\anaha\\appdata\\local\\programs\\python\\python312\\lib\\site-packages (from gradio) (10.1.0)\n",
      "Requirement already satisfied: pydantic>=2.0 in c:\\users\\anaha\\appdata\\local\\programs\\python\\python312\\lib\\site-packages (from gradio) (2.5.2)\n",
      "Requirement already satisfied: pydub in c:\\users\\anaha\\appdata\\local\\programs\\python\\python312\\lib\\site-packages (from gradio) (0.25.1)\n",
      "Requirement already satisfied: python-multipart==0.0.12 in c:\\users\\anaha\\appdata\\local\\programs\\python\\python312\\lib\\site-packages (from gradio) (0.0.12)\n",
      "Requirement already satisfied: pyyaml<7.0,>=5.0 in c:\\users\\anaha\\appdata\\local\\programs\\python\\python312\\lib\\site-packages (from gradio) (6.0.2)\n",
      "Requirement already satisfied: ruff>=0.2.2 in c:\\users\\anaha\\appdata\\local\\programs\\python\\python312\\lib\\site-packages (from gradio) (0.7.3)\n",
      "Requirement already satisfied: safehttpx<1.0,>=0.1.1 in c:\\users\\anaha\\appdata\\local\\programs\\python\\python312\\lib\\site-packages (from gradio) (0.1.1)\n",
      "Requirement already satisfied: semantic-version~=2.0 in c:\\users\\anaha\\appdata\\local\\programs\\python\\python312\\lib\\site-packages (from gradio) (2.10.0)\n",
      "Requirement already satisfied: starlette<1.0,>=0.40.0 in c:\\users\\anaha\\appdata\\local\\programs\\python\\python312\\lib\\site-packages (from gradio) (0.41.3)\n",
      "Requirement already satisfied: tomlkit==0.12.0 in c:\\users\\anaha\\appdata\\local\\programs\\python\\python312\\lib\\site-packages (from gradio) (0.12.0)\n",
      "Requirement already satisfied: typer<1.0,>=0.12 in c:\\users\\anaha\\appdata\\local\\programs\\python\\python312\\lib\\site-packages (from gradio) (0.13.0)\n",
      "Requirement already satisfied: typing-extensions~=4.0 in c:\\users\\anaha\\appdata\\local\\programs\\python\\python312\\lib\\site-packages (from gradio) (4.12.2)\n",
      "Requirement already satisfied: uvicorn>=0.14.0 in c:\\users\\anaha\\appdata\\local\\programs\\python\\python312\\lib\\site-packages (from gradio) (0.24.0)\n",
      "Requirement already satisfied: fsspec in c:\\users\\anaha\\appdata\\local\\programs\\python\\python312\\lib\\site-packages (from gradio-client==1.5.0->gradio) (2024.10.0)\n",
      "Requirement already satisfied: websockets<13.0,>=10.0 in c:\\users\\anaha\\appdata\\local\\programs\\python\\python312\\lib\\site-packages (from gradio-client==1.5.0->gradio) (11.0.3)\n",
      "Requirement already satisfied: idna>=2.8 in c:\\users\\anaha\\appdata\\local\\programs\\python\\python312\\lib\\site-packages (from anyio<5.0,>=3.0->gradio) (3.7)\n",
      "Requirement already satisfied: sniffio>=1.1 in c:\\users\\anaha\\appdata\\local\\programs\\python\\python312\\lib\\site-packages (from anyio<5.0,>=3.0->gradio) (1.3.1)\n",
      "Requirement already satisfied: certifi in c:\\users\\anaha\\appdata\\local\\programs\\python\\python312\\lib\\site-packages (from httpx>=0.24.1->gradio) (2024.7.4)\n",
      "Requirement already satisfied: httpcore==1.* in c:\\users\\anaha\\appdata\\local\\programs\\python\\python312\\lib\\site-packages (from httpx>=0.24.1->gradio) (1.0.5)\n",
      "Requirement already satisfied: h11<0.15,>=0.13 in c:\\users\\anaha\\appdata\\local\\programs\\python\\python312\\lib\\site-packages (from httpcore==1.*->httpx>=0.24.1->gradio) (0.14.0)\n",
      "Requirement already satisfied: filelock in c:\\users\\anaha\\appdata\\local\\programs\\python\\python312\\lib\\site-packages (from huggingface-hub>=0.25.1->gradio) (3.16.1)\n",
      "Requirement already satisfied: requests in c:\\users\\anaha\\appdata\\local\\programs\\python\\python312\\lib\\site-packages (from huggingface-hub>=0.25.1->gradio) (2.31.0)\n",
      "Requirement already satisfied: tqdm>=4.42.1 in c:\\users\\anaha\\appdata\\local\\programs\\python\\python312\\lib\\site-packages (from huggingface-hub>=0.25.1->gradio) (4.67.0)\n",
      "Requirement already satisfied: python-dateutil>=2.8.2 in c:\\users\\anaha\\appdata\\local\\programs\\python\\python312\\lib\\site-packages (from pandas<3.0,>=1.0->gradio) (2.9.0.post0)\n",
      "Requirement already satisfied: pytz>=2020.1 in c:\\users\\anaha\\appdata\\local\\programs\\python\\python312\\lib\\site-packages (from pandas<3.0,>=1.0->gradio) (2024.2)\n",
      "Requirement already satisfied: tzdata>=2022.7 in c:\\users\\anaha\\appdata\\local\\programs\\python\\python312\\lib\\site-packages (from pandas<3.0,>=1.0->gradio) (2024.2)\n",
      "Requirement already satisfied: annotated-types>=0.4.0 in c:\\users\\anaha\\appdata\\local\\programs\\python\\python312\\lib\\site-packages (from pydantic>=2.0->gradio) (0.7.0)\n",
      "Requirement already satisfied: pydantic-core==2.14.5 in c:\\users\\anaha\\appdata\\local\\programs\\python\\python312\\lib\\site-packages (from pydantic>=2.0->gradio) (2.14.5)\n",
      "Requirement already satisfied: click>=8.0.0 in c:\\users\\anaha\\appdata\\local\\programs\\python\\python312\\lib\\site-packages (from typer<1.0,>=0.12->gradio) (8.1.7)\n",
      "Requirement already satisfied: shellingham>=1.3.0 in c:\\users\\anaha\\appdata\\local\\programs\\python\\python312\\lib\\site-packages (from typer<1.0,>=0.12->gradio) (1.5.4)\n",
      "Requirement already satisfied: rich>=10.11.0 in c:\\users\\anaha\\appdata\\local\\programs\\python\\python312\\lib\\site-packages (from typer<1.0,>=0.12->gradio) (13.9.4)\n",
      "Requirement already satisfied: colorama in c:\\users\\anaha\\appdata\\local\\programs\\python\\python312\\lib\\site-packages (from click>=8.0.0->typer<1.0,>=0.12->gradio) (0.4.6)\n",
      "Requirement already satisfied: six>=1.5 in c:\\users\\anaha\\appdata\\local\\programs\\python\\python312\\lib\\site-packages (from python-dateutil>=2.8.2->pandas<3.0,>=1.0->gradio) (1.16.0)\n",
      "Requirement already satisfied: markdown-it-py>=2.2.0 in c:\\users\\anaha\\appdata\\local\\programs\\python\\python312\\lib\\site-packages (from rich>=10.11.0->typer<1.0,>=0.12->gradio) (3.0.0)\n",
      "Requirement already satisfied: pygments<3.0.0,>=2.13.0 in c:\\users\\anaha\\appdata\\local\\programs\\python\\python312\\lib\\site-packages (from rich>=10.11.0->typer<1.0,>=0.12->gradio) (2.18.0)\n",
      "Requirement already satisfied: charset-normalizer<4,>=2 in c:\\users\\anaha\\appdata\\local\\programs\\python\\python312\\lib\\site-packages (from requests->huggingface-hub>=0.25.1->gradio) (3.3.2)\n",
      "Requirement already satisfied: urllib3<3,>=1.21.1 in c:\\users\\anaha\\appdata\\local\\programs\\python\\python312\\lib\\site-packages (from requests->huggingface-hub>=0.25.1->gradio) (2.2.2)\n",
      "Requirement already satisfied: mdurl~=0.1 in c:\\users\\anaha\\appdata\\local\\programs\\python\\python312\\lib\\site-packages (from markdown-it-py>=2.2.0->rich>=10.11.0->typer<1.0,>=0.12->gradio) (0.1.2)\n",
      "Requirement already satisfied: nltk in c:\\users\\anaha\\appdata\\local\\programs\\python\\python312\\lib\\site-packages (3.9.1)\n",
      "Requirement already satisfied: click in c:\\users\\anaha\\appdata\\local\\programs\\python\\python312\\lib\\site-packages (from nltk) (8.1.7)\n",
      "Requirement already satisfied: joblib in c:\\users\\anaha\\appdata\\local\\programs\\python\\python312\\lib\\site-packages (from nltk) (1.4.2)\n",
      "Requirement already satisfied: regex>=2021.8.3 in c:\\users\\anaha\\appdata\\local\\programs\\python\\python312\\lib\\site-packages (from nltk) (2024.11.6)\n",
      "Requirement already satisfied: tqdm in c:\\users\\anaha\\appdata\\local\\programs\\python\\python312\\lib\\site-packages (from nltk) (4.67.0)\n",
      "Requirement already satisfied: colorama in c:\\users\\anaha\\appdata\\local\\programs\\python\\python312\\lib\\site-packages (from click->nltk) (0.4.6)\n"
     ]
    }
   ],
   "source": [
    "!pip install openai\n",
    "!pip install chromadb\n",
    "!pip install PyMuPDF\n",
    "!pip install requests\n",
    "!pip install beautifulsoup4\n",
    "!pip install transformers\n",
    "!pip install gradio\n",
    "!pip install nltk"
   ]
  },
  {
   "cell_type": "code",
   "execution_count": 2,
   "metadata": {},
   "outputs": [
    {
     "name": "stdout",
     "output_type": "stream",
     "text": [
      "Requirement already satisfied: openai in c:\\users\\anaha\\appdata\\local\\programs\\python\\python312\\lib\\site-packages (1.12.0)\n",
      "Requirement already satisfied: chromadb in c:\\users\\anaha\\appdata\\local\\programs\\python\\python312\\lib\\site-packages (0.5.20)\n",
      "Requirement already satisfied: PyMuPDF in c:\\users\\anaha\\appdata\\local\\programs\\python\\python312\\lib\\site-packages (1.24.14)\n",
      "Requirement already satisfied: requests in c:\\users\\anaha\\appdata\\local\\programs\\python\\python312\\lib\\site-packages (2.31.0)\n",
      "Requirement already satisfied: beautifulsoup4 in c:\\users\\anaha\\appdata\\local\\programs\\python\\python312\\lib\\site-packages (4.12.3)\n",
      "Requirement already satisfied: transformers in c:\\users\\anaha\\appdata\\local\\programs\\python\\python312\\lib\\site-packages (4.46.3)\n",
      "Requirement already satisfied: gradio in c:\\users\\anaha\\appdata\\local\\programs\\python\\python312\\lib\\site-packages (5.7.1)\n",
      "Requirement already satisfied: nltk in c:\\users\\anaha\\appdata\\local\\programs\\python\\python312\\lib\\site-packages (3.9.1)\n",
      "Requirement already satisfied: anyio<5,>=3.5.0 in c:\\users\\anaha\\appdata\\local\\programs\\python\\python312\\lib\\site-packages (from openai) (3.7.1)\n",
      "Requirement already satisfied: distro<2,>=1.7.0 in c:\\users\\anaha\\appdata\\local\\programs\\python\\python312\\lib\\site-packages (from openai) (1.9.0)\n",
      "Requirement already satisfied: httpx<1,>=0.23.0 in c:\\users\\anaha\\appdata\\local\\programs\\python\\python312\\lib\\site-packages (from openai) (0.27.0)\n",
      "Requirement already satisfied: pydantic<3,>=1.9.0 in c:\\users\\anaha\\appdata\\local\\programs\\python\\python312\\lib\\site-packages (from openai) (2.5.2)\n",
      "Requirement already satisfied: sniffio in c:\\users\\anaha\\appdata\\local\\programs\\python\\python312\\lib\\site-packages (from openai) (1.3.1)\n",
      "Requirement already satisfied: tqdm>4 in c:\\users\\anaha\\appdata\\local\\programs\\python\\python312\\lib\\site-packages (from openai) (4.67.0)\n",
      "Requirement already satisfied: typing-extensions<5,>=4.7 in c:\\users\\anaha\\appdata\\local\\programs\\python\\python312\\lib\\site-packages (from openai) (4.12.2)\n",
      "Requirement already satisfied: build>=1.0.3 in c:\\users\\anaha\\appdata\\local\\programs\\python\\python312\\lib\\site-packages (from chromadb) (1.2.2.post1)\n",
      "Requirement already satisfied: chroma-hnswlib==0.7.6 in c:\\users\\anaha\\appdata\\local\\programs\\python\\python312\\lib\\site-packages (from chromadb) (0.7.6)\n",
      "Requirement already satisfied: fastapi>=0.95.2 in c:\\users\\anaha\\appdata\\local\\programs\\python\\python312\\lib\\site-packages (from chromadb) (0.115.5)\n",
      "Requirement already satisfied: uvicorn>=0.18.3 in c:\\users\\anaha\\appdata\\local\\programs\\python\\python312\\lib\\site-packages (from uvicorn[standard]>=0.18.3->chromadb) (0.24.0)\n",
      "Requirement already satisfied: numpy>=1.22.5 in c:\\users\\anaha\\appdata\\local\\programs\\python\\python312\\lib\\site-packages (from chromadb) (2.0.2)\n",
      "Requirement already satisfied: posthog>=2.4.0 in c:\\users\\anaha\\appdata\\local\\programs\\python\\python312\\lib\\site-packages (from chromadb) (3.7.0)\n",
      "Requirement already satisfied: onnxruntime>=1.14.1 in c:\\users\\anaha\\appdata\\local\\programs\\python\\python312\\lib\\site-packages (from chromadb) (1.20.0)\n",
      "Requirement already satisfied: opentelemetry-api>=1.2.0 in c:\\users\\anaha\\appdata\\local\\programs\\python\\python312\\lib\\site-packages (from chromadb) (1.28.1)\n",
      "Requirement already satisfied: opentelemetry-exporter-otlp-proto-grpc>=1.2.0 in c:\\users\\anaha\\appdata\\local\\programs\\python\\python312\\lib\\site-packages (from chromadb) (1.28.1)\n",
      "Requirement already satisfied: opentelemetry-instrumentation-fastapi>=0.41b0 in c:\\users\\anaha\\appdata\\local\\programs\\python\\python312\\lib\\site-packages (from chromadb) (0.49b1)\n",
      "Requirement already satisfied: opentelemetry-sdk>=1.2.0 in c:\\users\\anaha\\appdata\\local\\programs\\python\\python312\\lib\\site-packages (from chromadb) (1.28.1)\n",
      "Requirement already satisfied: tokenizers>=0.13.2 in c:\\users\\anaha\\appdata\\local\\programs\\python\\python312\\lib\\site-packages (from chromadb) (0.20.3)\n",
      "Requirement already satisfied: pypika>=0.48.9 in c:\\users\\anaha\\appdata\\local\\programs\\python\\python312\\lib\\site-packages (from chromadb) (0.48.9)\n",
      "Requirement already satisfied: overrides>=7.3.1 in c:\\users\\anaha\\appdata\\local\\programs\\python\\python312\\lib\\site-packages (from chromadb) (7.7.0)\n",
      "Requirement already satisfied: importlib-resources in c:\\users\\anaha\\appdata\\local\\programs\\python\\python312\\lib\\site-packages (from chromadb) (6.4.5)\n",
      "Requirement already satisfied: grpcio>=1.58.0 in c:\\users\\anaha\\appdata\\local\\programs\\python\\python312\\lib\\site-packages (from chromadb) (1.67.1)\n",
      "Requirement already satisfied: bcrypt>=4.0.1 in c:\\users\\anaha\\appdata\\local\\programs\\python\\python312\\lib\\site-packages (from chromadb) (4.2.0)\n",
      "Requirement already satisfied: typer>=0.9.0 in c:\\users\\anaha\\appdata\\local\\programs\\python\\python312\\lib\\site-packages (from chromadb) (0.13.0)\n",
      "Requirement already satisfied: kubernetes>=28.1.0 in c:\\users\\anaha\\appdata\\local\\programs\\python\\python312\\lib\\site-packages (from chromadb) (31.0.0)\n",
      "Requirement already satisfied: tenacity>=8.2.3 in c:\\users\\anaha\\appdata\\local\\programs\\python\\python312\\lib\\site-packages (from chromadb) (9.0.0)\n",
      "Requirement already satisfied: PyYAML>=6.0.0 in c:\\users\\anaha\\appdata\\local\\programs\\python\\python312\\lib\\site-packages (from chromadb) (6.0.2)\n",
      "Requirement already satisfied: mmh3>=4.0.1 in c:\\users\\anaha\\appdata\\local\\programs\\python\\python312\\lib\\site-packages (from chromadb) (5.0.1)\n",
      "Requirement already satisfied: orjson>=3.9.12 in c:\\users\\anaha\\appdata\\local\\programs\\python\\python312\\lib\\site-packages (from chromadb) (3.10.11)\n",
      "Requirement already satisfied: rich>=10.11.0 in c:\\users\\anaha\\appdata\\local\\programs\\python\\python312\\lib\\site-packages (from chromadb) (13.9.4)\n",
      "Requirement already satisfied: charset-normalizer<4,>=2 in c:\\users\\anaha\\appdata\\local\\programs\\python\\python312\\lib\\site-packages (from requests) (3.3.2)\n",
      "Requirement already satisfied: idna<4,>=2.5 in c:\\users\\anaha\\appdata\\local\\programs\\python\\python312\\lib\\site-packages (from requests) (3.7)\n",
      "Requirement already satisfied: urllib3<3,>=1.21.1 in c:\\users\\anaha\\appdata\\local\\programs\\python\\python312\\lib\\site-packages (from requests) (2.2.2)\n",
      "Requirement already satisfied: certifi>=2017.4.17 in c:\\users\\anaha\\appdata\\local\\programs\\python\\python312\\lib\\site-packages (from requests) (2024.7.4)\n",
      "Requirement already satisfied: soupsieve>1.2 in c:\\users\\anaha\\appdata\\local\\programs\\python\\python312\\lib\\site-packages (from beautifulsoup4) (2.6)\n",
      "Requirement already satisfied: filelock in c:\\users\\anaha\\appdata\\local\\programs\\python\\python312\\lib\\site-packages (from transformers) (3.16.1)\n",
      "Requirement already satisfied: huggingface-hub<1.0,>=0.23.2 in c:\\users\\anaha\\appdata\\local\\programs\\python\\python312\\lib\\site-packages (from transformers) (0.26.3)\n",
      "Requirement already satisfied: packaging>=20.0 in c:\\users\\anaha\\appdata\\local\\programs\\python\\python312\\lib\\site-packages (from transformers) (24.1)\n",
      "Requirement already satisfied: regex!=2019.12.17 in c:\\users\\anaha\\appdata\\local\\programs\\python\\python312\\lib\\site-packages (from transformers) (2024.11.6)\n",
      "Requirement already satisfied: safetensors>=0.4.1 in c:\\users\\anaha\\appdata\\local\\programs\\python\\python312\\lib\\site-packages (from transformers) (0.4.5)\n",
      "Requirement already satisfied: aiofiles<24.0,>=22.0 in c:\\users\\anaha\\appdata\\local\\programs\\python\\python312\\lib\\site-packages (from gradio) (23.2.1)\n",
      "Requirement already satisfied: ffmpy in c:\\users\\anaha\\appdata\\local\\programs\\python\\python312\\lib\\site-packages (from gradio) (0.4.0)\n",
      "Requirement already satisfied: gradio-client==1.5.0 in c:\\users\\anaha\\appdata\\local\\programs\\python\\python312\\lib\\site-packages (from gradio) (1.5.0)\n",
      "Requirement already satisfied: jinja2<4.0 in c:\\users\\anaha\\appdata\\local\\programs\\python\\python312\\lib\\site-packages (from gradio) (3.1.4)\n",
      "Requirement already satisfied: markupsafe~=2.0 in c:\\users\\anaha\\appdata\\local\\programs\\python\\python312\\lib\\site-packages (from gradio) (2.1.5)\n",
      "Requirement already satisfied: pandas<3.0,>=1.0 in c:\\users\\anaha\\appdata\\local\\programs\\python\\python312\\lib\\site-packages (from gradio) (2.2.3)\n",
      "Requirement already satisfied: pillow<12.0,>=8.0 in c:\\users\\anaha\\appdata\\local\\programs\\python\\python312\\lib\\site-packages (from gradio) (10.1.0)\n",
      "Requirement already satisfied: pydub in c:\\users\\anaha\\appdata\\local\\programs\\python\\python312\\lib\\site-packages (from gradio) (0.25.1)\n",
      "Requirement already satisfied: python-multipart==0.0.12 in c:\\users\\anaha\\appdata\\local\\programs\\python\\python312\\lib\\site-packages (from gradio) (0.0.12)\n",
      "Requirement already satisfied: ruff>=0.2.2 in c:\\users\\anaha\\appdata\\local\\programs\\python\\python312\\lib\\site-packages (from gradio) (0.7.3)\n",
      "Requirement already satisfied: safehttpx<1.0,>=0.1.1 in c:\\users\\anaha\\appdata\\local\\programs\\python\\python312\\lib\\site-packages (from gradio) (0.1.1)\n",
      "Requirement already satisfied: semantic-version~=2.0 in c:\\users\\anaha\\appdata\\local\\programs\\python\\python312\\lib\\site-packages (from gradio) (2.10.0)\n",
      "Requirement already satisfied: starlette<1.0,>=0.40.0 in c:\\users\\anaha\\appdata\\local\\programs\\python\\python312\\lib\\site-packages (from gradio) (0.41.3)\n",
      "Requirement already satisfied: tomlkit==0.12.0 in c:\\users\\anaha\\appdata\\local\\programs\\python\\python312\\lib\\site-packages (from gradio) (0.12.0)\n",
      "Requirement already satisfied: fsspec in c:\\users\\anaha\\appdata\\local\\programs\\python\\python312\\lib\\site-packages (from gradio-client==1.5.0->gradio) (2024.10.0)\n",
      "Requirement already satisfied: websockets<13.0,>=10.0 in c:\\users\\anaha\\appdata\\local\\programs\\python\\python312\\lib\\site-packages (from gradio-client==1.5.0->gradio) (11.0.3)\n",
      "Requirement already satisfied: click in c:\\users\\anaha\\appdata\\local\\programs\\python\\python312\\lib\\site-packages (from nltk) (8.1.7)\n",
      "Requirement already satisfied: joblib in c:\\users\\anaha\\appdata\\local\\programs\\python\\python312\\lib\\site-packages (from nltk) (1.4.2)\n",
      "Requirement already satisfied: pyproject_hooks in c:\\users\\anaha\\appdata\\local\\programs\\python\\python312\\lib\\site-packages (from build>=1.0.3->chromadb) (1.2.0)\n",
      "Requirement already satisfied: colorama in c:\\users\\anaha\\appdata\\local\\programs\\python\\python312\\lib\\site-packages (from build>=1.0.3->chromadb) (0.4.6)\n",
      "Requirement already satisfied: httpcore==1.* in c:\\users\\anaha\\appdata\\local\\programs\\python\\python312\\lib\\site-packages (from httpx<1,>=0.23.0->openai) (1.0.5)\n",
      "Requirement already satisfied: h11<0.15,>=0.13 in c:\\users\\anaha\\appdata\\local\\programs\\python\\python312\\lib\\site-packages (from httpcore==1.*->httpx<1,>=0.23.0->openai) (0.14.0)\n",
      "Requirement already satisfied: six>=1.9.0 in c:\\users\\anaha\\appdata\\local\\programs\\python\\python312\\lib\\site-packages (from kubernetes>=28.1.0->chromadb) (1.16.0)\n",
      "Requirement already satisfied: python-dateutil>=2.5.3 in c:\\users\\anaha\\appdata\\local\\programs\\python\\python312\\lib\\site-packages (from kubernetes>=28.1.0->chromadb) (2.9.0.post0)\n",
      "Requirement already satisfied: google-auth>=1.0.1 in c:\\users\\anaha\\appdata\\local\\programs\\python\\python312\\lib\\site-packages (from kubernetes>=28.1.0->chromadb) (2.35.0)\n",
      "Requirement already satisfied: websocket-client!=0.40.0,!=0.41.*,!=0.42.*,>=0.32.0 in c:\\users\\anaha\\appdata\\local\\programs\\python\\python312\\lib\\site-packages (from kubernetes>=28.1.0->chromadb) (1.8.0)\n",
      "Requirement already satisfied: requests-oauthlib in c:\\users\\anaha\\appdata\\local\\programs\\python\\python312\\lib\\site-packages (from kubernetes>=28.1.0->chromadb) (2.0.0)\n",
      "Requirement already satisfied: oauthlib>=3.2.2 in c:\\users\\anaha\\appdata\\local\\programs\\python\\python312\\lib\\site-packages (from kubernetes>=28.1.0->chromadb) (3.2.2)\n",
      "Requirement already satisfied: durationpy>=0.7 in c:\\users\\anaha\\appdata\\local\\programs\\python\\python312\\lib\\site-packages (from kubernetes>=28.1.0->chromadb) (0.9)\n",
      "Requirement already satisfied: coloredlogs in c:\\users\\anaha\\appdata\\local\\programs\\python\\python312\\lib\\site-packages (from onnxruntime>=1.14.1->chromadb) (15.0.1)\n",
      "Requirement already satisfied: flatbuffers in c:\\users\\anaha\\appdata\\local\\programs\\python\\python312\\lib\\site-packages (from onnxruntime>=1.14.1->chromadb) (24.3.25)\n",
      "Requirement already satisfied: protobuf in c:\\users\\anaha\\appdata\\local\\programs\\python\\python312\\lib\\site-packages (from onnxruntime>=1.14.1->chromadb) (5.28.2)\n",
      "Requirement already satisfied: sympy in c:\\users\\anaha\\appdata\\local\\programs\\python\\python312\\lib\\site-packages (from onnxruntime>=1.14.1->chromadb) (1.13.1)\n",
      "Requirement already satisfied: deprecated>=1.2.6 in c:\\users\\anaha\\appdata\\local\\programs\\python\\python312\\lib\\site-packages (from opentelemetry-api>=1.2.0->chromadb) (1.2.14)\n",
      "Requirement already satisfied: importlib-metadata<=8.5.0,>=6.0 in c:\\users\\anaha\\appdata\\local\\programs\\python\\python312\\lib\\site-packages (from opentelemetry-api>=1.2.0->chromadb) (8.5.0)\n",
      "Requirement already satisfied: googleapis-common-protos~=1.52 in c:\\users\\anaha\\appdata\\local\\programs\\python\\python312\\lib\\site-packages (from opentelemetry-exporter-otlp-proto-grpc>=1.2.0->chromadb) (1.65.0)\n",
      "Requirement already satisfied: opentelemetry-exporter-otlp-proto-common==1.28.1 in c:\\users\\anaha\\appdata\\local\\programs\\python\\python312\\lib\\site-packages (from opentelemetry-exporter-otlp-proto-grpc>=1.2.0->chromadb) (1.28.1)\n",
      "Requirement already satisfied: opentelemetry-proto==1.28.1 in c:\\users\\anaha\\appdata\\local\\programs\\python\\python312\\lib\\site-packages (from opentelemetry-exporter-otlp-proto-grpc>=1.2.0->chromadb) (1.28.1)\n",
      "Requirement already satisfied: opentelemetry-instrumentation-asgi==0.49b1 in c:\\users\\anaha\\appdata\\local\\programs\\python\\python312\\lib\\site-packages (from opentelemetry-instrumentation-fastapi>=0.41b0->chromadb) (0.49b1)\n",
      "Requirement already satisfied: opentelemetry-instrumentation==0.49b1 in c:\\users\\anaha\\appdata\\local\\programs\\python\\python312\\lib\\site-packages (from opentelemetry-instrumentation-fastapi>=0.41b0->chromadb) (0.49b1)\n",
      "Requirement already satisfied: opentelemetry-semantic-conventions==0.49b1 in c:\\users\\anaha\\appdata\\local\\programs\\python\\python312\\lib\\site-packages (from opentelemetry-instrumentation-fastapi>=0.41b0->chromadb) (0.49b1)\n",
      "Requirement already satisfied: opentelemetry-util-http==0.49b1 in c:\\users\\anaha\\appdata\\local\\programs\\python\\python312\\lib\\site-packages (from opentelemetry-instrumentation-fastapi>=0.41b0->chromadb) (0.49b1)\n",
      "Requirement already satisfied: wrapt<2.0.0,>=1.0.0 in c:\\users\\anaha\\appdata\\local\\programs\\python\\python312\\lib\\site-packages (from opentelemetry-instrumentation==0.49b1->opentelemetry-instrumentation-fastapi>=0.41b0->chromadb) (1.16.0)\n",
      "Requirement already satisfied: asgiref~=3.0 in c:\\users\\anaha\\appdata\\local\\programs\\python\\python312\\lib\\site-packages (from opentelemetry-instrumentation-asgi==0.49b1->opentelemetry-instrumentation-fastapi>=0.41b0->chromadb) (3.8.1)\n",
      "Requirement already satisfied: pytz>=2020.1 in c:\\users\\anaha\\appdata\\local\\programs\\python\\python312\\lib\\site-packages (from pandas<3.0,>=1.0->gradio) (2024.2)\n",
      "Requirement already satisfied: tzdata>=2022.7 in c:\\users\\anaha\\appdata\\local\\programs\\python\\python312\\lib\\site-packages (from pandas<3.0,>=1.0->gradio) (2024.2)\n",
      "Requirement already satisfied: monotonic>=1.5 in c:\\users\\anaha\\appdata\\local\\programs\\python\\python312\\lib\\site-packages (from posthog>=2.4.0->chromadb) (1.6)\n",
      "Requirement already satisfied: backoff>=1.10.0 in c:\\users\\anaha\\appdata\\local\\programs\\python\\python312\\lib\\site-packages (from posthog>=2.4.0->chromadb) (2.2.1)\n",
      "Requirement already satisfied: annotated-types>=0.4.0 in c:\\users\\anaha\\appdata\\local\\programs\\python\\python312\\lib\\site-packages (from pydantic<3,>=1.9.0->openai) (0.7.0)\n",
      "Requirement already satisfied: pydantic-core==2.14.5 in c:\\users\\anaha\\appdata\\local\\programs\\python\\python312\\lib\\site-packages (from pydantic<3,>=1.9.0->openai) (2.14.5)\n",
      "Requirement already satisfied: markdown-it-py>=2.2.0 in c:\\users\\anaha\\appdata\\local\\programs\\python\\python312\\lib\\site-packages (from rich>=10.11.0->chromadb) (3.0.0)\n",
      "Requirement already satisfied: pygments<3.0.0,>=2.13.0 in c:\\users\\anaha\\appdata\\local\\programs\\python\\python312\\lib\\site-packages (from rich>=10.11.0->chromadb) (2.18.0)\n",
      "Requirement already satisfied: shellingham>=1.3.0 in c:\\users\\anaha\\appdata\\local\\programs\\python\\python312\\lib\\site-packages (from typer>=0.9.0->chromadb) (1.5.4)\n",
      "Requirement already satisfied: httptools>=0.5.0 in c:\\users\\anaha\\appdata\\local\\programs\\python\\python312\\lib\\site-packages (from uvicorn[standard]>=0.18.3->chromadb) (0.6.4)\n",
      "Requirement already satisfied: python-dotenv>=0.13 in c:\\users\\anaha\\appdata\\local\\programs\\python\\python312\\lib\\site-packages (from uvicorn[standard]>=0.18.3->chromadb) (1.0.1)\n",
      "Requirement already satisfied: watchfiles>=0.13 in c:\\users\\anaha\\appdata\\local\\programs\\python\\python312\\lib\\site-packages (from uvicorn[standard]>=0.18.3->chromadb) (0.24.0)\n",
      "Requirement already satisfied: cachetools<6.0,>=2.0.0 in c:\\users\\anaha\\appdata\\local\\programs\\python\\python312\\lib\\site-packages (from google-auth>=1.0.1->kubernetes>=28.1.0->chromadb) (5.5.0)\n",
      "Requirement already satisfied: pyasn1-modules>=0.2.1 in c:\\users\\anaha\\appdata\\local\\programs\\python\\python312\\lib\\site-packages (from google-auth>=1.0.1->kubernetes>=28.1.0->chromadb) (0.4.1)\n",
      "Requirement already satisfied: rsa<5,>=3.1.4 in c:\\users\\anaha\\appdata\\local\\programs\\python\\python312\\lib\\site-packages (from google-auth>=1.0.1->kubernetes>=28.1.0->chromadb) (4.9)\n",
      "Requirement already satisfied: zipp>=3.20 in c:\\users\\anaha\\appdata\\local\\programs\\python\\python312\\lib\\site-packages (from importlib-metadata<=8.5.0,>=6.0->opentelemetry-api>=1.2.0->chromadb) (3.20.2)\n",
      "Requirement already satisfied: mdurl~=0.1 in c:\\users\\anaha\\appdata\\local\\programs\\python\\python312\\lib\\site-packages (from markdown-it-py>=2.2.0->rich>=10.11.0->chromadb) (0.1.2)\n",
      "Requirement already satisfied: humanfriendly>=9.1 in c:\\users\\anaha\\appdata\\local\\programs\\python\\python312\\lib\\site-packages (from coloredlogs->onnxruntime>=1.14.1->chromadb) (10.0)\n",
      "Requirement already satisfied: mpmath<1.4,>=1.1.0 in c:\\users\\anaha\\appdata\\local\\programs\\python\\python312\\lib\\site-packages (from sympy->onnxruntime>=1.14.1->chromadb) (1.3.0)\n",
      "Requirement already satisfied: pyreadline3 in c:\\users\\anaha\\appdata\\local\\programs\\python\\python312\\lib\\site-packages (from humanfriendly>=9.1->coloredlogs->onnxruntime>=1.14.1->chromadb) (3.5.4)\n",
      "Requirement already satisfied: pyasn1<0.7.0,>=0.4.6 in c:\\users\\anaha\\appdata\\local\\programs\\python\\python312\\lib\\site-packages (from pyasn1-modules>=0.2.1->google-auth>=1.0.1->kubernetes>=28.1.0->chromadb) (0.6.1)\n",
      "Note: you may need to restart the kernel to use updated packages.\n"
     ]
    }
   ],
   "source": [
    "pip install openai chromadb PyMuPDF requests beautifulsoup4 transformers gradio nltk\n"
   ]
  },
  {
   "cell_type": "code",
   "execution_count": 3,
   "metadata": {},
   "outputs": [
    {
     "name": "stderr",
     "output_type": "stream",
     "text": [
      "[nltk_data] Downloading package punkt to\n",
      "[nltk_data]     C:\\Users\\anaha\\AppData\\Roaming\\nltk_data...\n",
      "[nltk_data]   Package punkt is already up-to-date!\n"
     ]
    },
    {
     "data": {
      "text/plain": [
       "True"
      ]
     },
     "execution_count": 3,
     "metadata": {},
     "output_type": "execute_result"
    }
   ],
   "source": [
    "import nltk\n",
    "nltk.download('punkt')"
   ]
  },
  {
   "cell_type": "code",
   "execution_count": 4,
   "metadata": {
    "colab": {
     "base_uri": "https://localhost:8080/"
    },
    "id": "AtU7VNJAu5no",
    "outputId": "4729e107-1e8e-49b7-c028-c49d168b4b72"
   },
   "outputs": [
    {
     "name": "stderr",
     "output_type": "stream",
     "text": [
      "[nltk_data] Downloading package punkt to\n",
      "[nltk_data]     C:\\Users\\anaha\\AppData\\Roaming\\nltk_data...\n",
      "[nltk_data]   Package punkt is already up-to-date!\n"
     ]
    }
   ],
   "source": [
    "import openai\n",
    "import chromadb\n",
    "import fitz  # PyMuPDF\n",
    "import requests\n",
    "from bs4 import BeautifulSoup\n",
    "from transformers import AutoTokenizer, AutoModel\n",
    "import gradio as gr\n",
    "import re\n",
    "import nltk\n",
    "\n",
    "nltk.download('punkt')\n",
    "from nltk.tokenize import sent_tokenize\n"
   ]
  },
  {
   "cell_type": "markdown",
   "metadata": {
    "id": "V4v2B7-ewhzK"
   },
   "source": [
    "Document Loaders\n",
    "Let's implement loaders for different document types (PDF, web scraping, and text files)."
   ]
  },
  {
   "cell_type": "code",
   "execution_count": 5,
   "metadata": {
    "id": "uJDilrAJwjmB"
   },
   "outputs": [],
   "source": [
    "# Load PDF\n",
    "def load_pdf(file_path):\n",
    "    doc = fitz.open(file_path)\n",
    "    text = \"\"\n",
    "    for page_num in range(doc.page_count):\n",
    "        page = doc.load_page(page_num)\n",
    "        text += page.get_text()\n",
    "    return text\n",
    "\n",
    "# Load from URL (Web scraping)\n",
    "def load_url(url):\n",
    "    try:\n",
    "        response = requests.get(url)\n",
    "        response.raise_for_status()\n",
    "        soup = BeautifulSoup(response.text, \"html.parser\")\n",
    "        return soup.get_text()\n",
    "    except requests.exceptions.RequestException as e:\n",
    "        print(f\"Error loading URL: {str(e)}\")\n",
    "        return \"\"\n",
    "\n",
    "# Load text files\n",
    "def load_text(file_path):\n",
    "    with open(file_path, 'r') as file:\n",
    "        return file.read()\n"
   ]
  },
  {
   "cell_type": "markdown",
   "metadata": {
    "id": "r4QNttFwwoJO"
   },
   "source": [
    "Text Chunking\n",
    "To manage long texts, we split documents into chunks with overlap to preserve context."
   ]
  },
  {
   "cell_type": "code",
   "execution_count": 6,
   "metadata": {
    "id": "FkNI49VuwsNc"
   },
   "outputs": [],
   "source": [
    "def chunk_text(text, chunk_size=500, overlap=50):\n",
    "    sentences = sent_tokenize(text)\n",
    "    chunks = []\n",
    "    current_chunk = []\n",
    "    current_length = 0\n",
    "\n",
    "    for sentence in sentences:\n",
    "        current_chunk.append(sentence)\n",
    "        current_length += len(sentence)\n",
    "\n",
    "        if current_length >= chunk_size:\n",
    "            chunks.append(\" \".join(current_chunk))\n",
    "            current_chunk = current_chunk[-overlap:]  # overlap handling\n",
    "            current_length = sum(len(sent) for sent in current_chunk)\n",
    "\n",
    "    if current_chunk:\n",
    "        chunks.append(\" \".join(current_chunk))\n",
    "    return chunks\n"
   ]
  },
  {
   "cell_type": "markdown",
   "metadata": {
    "id": "FmuLMAeFwvd6"
   },
   "source": [
    "Text Cleaning\n"
   ]
  },
  {
   "cell_type": "code",
   "execution_count": 7,
   "metadata": {
    "id": "5Qw_taHEwyz8"
   },
   "outputs": [],
   "source": [
    "def clean_text(text):\n",
    "    # Remove extra whitespace, newlines, and special characters\n",
    "    text = re.sub(r'\\s+', ' ', text)\n",
    "    text = re.sub(r'[^\\x00-\\x7F]+', '', text)\n",
    "    return text.strip()\n"
   ]
  },
  {
   "cell_type": "markdown",
   "metadata": {
    "id": "CRM81aJEw3HV"
   },
   "source": [
    "# 2. Embedding System\n",
    "This part uses pre-trained embeddings (OpenAI or transformer-based embeddings like MPNet or BERT). Here, we use transformers for a local embedding model and OpenAI embeddings.\n",
    "\n",
    "Load the Embedding Model"
   ]
  },
  {
   "cell_type": "code",
   "execution_count": 8,
   "metadata": {
    "id": "rvn7NjVJw7RB"
   },
   "outputs": [],
   "source": [
    "# Using sentence transformers or OpenAI embedding models\n",
    "model_name = \"sentence-transformers/all-mpnet-base-v2\"\n",
    "tokenizer = AutoTokenizer.from_pretrained(model_name)\n",
    "model = AutoModel.from_pretrained(model_name)\n",
    "\n",
    "# Function to embed text using transformers model\n",
    "import torch\n",
    "\n",
    "def embed_text(text):\n",
    "    inputs = tokenizer(text, return_tensors=\"pt\", truncation=True, padding=True)\n",
    "    outputs = model(**inputs)\n",
    "    return outputs.last_hidden_state.mean(dim=1).detach().numpy().flatten()\n"
   ]
  },
  {
   "cell_type": "markdown",
   "metadata": {
    "id": "zBTCaOrnxAh0"
   },
   "source": [
    "# Vector Database Setup\n",
    "We’ll use chromadb as the vector database for storing and retrieving document embeddings."
   ]
  },
  {
   "cell_type": "code",
   "execution_count": 9,
   "metadata": {
    "id": "mlt2DQjPxGet"
   },
   "outputs": [],
   "source": [
    "# Initialize Chroma client\n",
    "client = chromadb.Client()\n",
    "try:\n",
    "    collection = client.create_collection(\"financial_docs\")\n",
    "except chromadb.errors.UniqueConstraintError:\n",
    "    # Retrieve if already exists\n",
    "    collection = client.get_collection(\"financial_docs\")\n",
    "\n",
    "# Add documents to Chroma\n",
    "def add_to_chroma(text, doc_id):\n",
    "    embedding = embed_text(text)\n",
    "    collection.add(\n",
    "        documents=[text],\n",
    "        embeddings=[embedding],\n",
    "        ids=[doc_id]\n",
    "    )\n"
   ]
  },
  {
   "cell_type": "markdown",
   "metadata": {
    "id": "HGCzNWaaxLiG"
   },
   "source": [
    "# 3. Retrieval and Chatbot Interface\n",
    "\n",
    "Finally, we will set up a Gradio interface that allows users to upload documents, query them, and receive responses generated from a RAG-based model."
   ]
  },
  {
   "cell_type": "markdown",
   "metadata": {
    "id": "zYa1RB4lyoX8"
   },
   "source": [
    "# Retrieval System Code\n",
    "Import Libraries"
   ]
  },
  {
   "cell_type": "code",
   "execution_count": 10,
   "metadata": {
    "id": "j9w0PM21zEqn"
   },
   "outputs": [],
   "source": [
    "import numpy as np\n",
    "from sklearn.metrics.pairwise import cosine_similarity, euclidean_distances\n"
   ]
  },
  {
   "cell_type": "markdown",
   "metadata": {
    "id": "LccMNqLqyyWL"
   },
   "source": [
    "# Query Processing\n",
    "- Generate Query Embedding: Converts the user’s query into an embedding for\n",
    "similarity comparisons.\n",
    "- Query Expansion (Optional): Expands the query by adding relevant terms to increase search robustness."
   ]
  },
  {
   "cell_type": "code",
   "execution_count": 11,
   "metadata": {
    "id": "U9yxlxzEzWJg"
   },
   "outputs": [],
   "source": [
    "# Function to clean and embed the query\n",
    "def generate_query_embedding(query):\n",
    "    cleaned_query = clean_text(query)\n",
    "    return embed_text(cleaned_query)  # Use your embedding model here\n",
    "\n",
    "# Optional query expansion\n",
    "def expand_query(query):\n",
    "    expanded_terms = [\"investment\", \"stock\", \"market\"]  # Example expansions\n",
    "    expanded_query = query + \" \" + \" \".join(expanded_terms)\n",
    "    return expanded_query\n"
   ]
  },
  {
   "cell_type": "markdown",
   "metadata": {
    "id": "5dGD71V8zZux"
   },
   "source": [
    "# Similarity Search\n",
    "Uses cosine similarity (or optionally other distance metrics) to find documents similar to the query based on embeddings."
   ]
  },
  {
   "cell_type": "code",
   "execution_count": 12,
   "metadata": {
    "id": "Fp8-9kmLzddO"
   },
   "outputs": [],
   "source": [
    "# Function to calculate similarity scores\n",
    "def similarity_search(query_embedding, document_embeddings, method=\"cosine\"):\n",
    "    if method == \"cosine\":\n",
    "        similarities = cosine_similarity([query_embedding], document_embeddings)[0]\n",
    "    elif method == \"euclidean\":\n",
    "        similarities = -euclidean_distances([query_embedding], document_embeddings)[0]\n",
    "    elif method == \"dot\":\n",
    "        similarities = np.dot(document_embeddings, query_embedding)\n",
    "    else:\n",
    "        raise ValueError(\"Unsupported similarity method.\")\n",
    "\n",
    "    return similarities\n"
   ]
  },
  {
   "cell_type": "markdown",
   "metadata": {
    "id": "R-gUISlS1K8M"
   },
   "source": [
    "# Filtering & Ranking\n",
    "- Metadata Filtering: Filters results based on metadata (e.g., type, date).\n",
    "- Ranking: Sorts results by similarity score to return the top-k relevant documents"
   ]
  },
  {
   "cell_type": "code",
   "execution_count": 13,
   "metadata": {
    "id": "6VoW0FZE1S1G"
   },
   "outputs": [],
   "source": [
    "# Filter based on metadata (e.g., type, author)\n",
    "def filter_documents(documents, metadata, filter_criteria):\n",
    "    filtered_docs = []\n",
    "    for doc, meta in zip(documents, metadata):\n",
    "        if all(meta.get(k) == v for k, v in filter_criteria.items()):\n",
    "            filtered_docs.append(doc)\n",
    "    return filtered_docs\n",
    "\n",
    "# Rank documents based on similarity score\n",
    "def rank_documents(documents, similarities, top_k=3):\n",
    "    ranked_indices = np.argsort(similarities)[::-1][:top_k]\n",
    "    ranked_docs = [documents[i] for i in ranked_indices]\n",
    "    ranked_similarities = [similarities[i] for i in ranked_indices]\n",
    "    return ranked_docs, ranked_similarities\n"
   ]
  },
  {
   "cell_type": "markdown",
   "metadata": {
    "id": "yHXOsjdK1t_V"
   },
   "source": [
    "# Retrieval and Ranking Pipeline\n",
    "\n"
   ]
  },
  {
   "cell_type": "code",
   "execution_count": 14,
   "metadata": {
    "id": "ySVQzd7x1zFN"
   },
   "outputs": [],
   "source": [
    "# Main retrieval function\n",
    "def retrieve_and_rank_documents(query, top_k=3, similarity_method=\"cosine\", filter_criteria=None):\n",
    "    # Step 1: Embed the query\n",
    "    query_embedding = generate_query_embedding(query)\n",
    "\n",
    "    # Step 2: Retrieve document embeddings and metadata\n",
    "    document_embeddings = collection.get_all_embeddings()  # Replace with your actual call to retrieve embeddings\n",
    "    documents = collection.get_all_documents()\n",
    "    metadata = collection.get_all_metadata()  # Assume metadata is stored with each document\n",
    "\n",
    "    # Step 3: Calculate similarity scores\n",
    "    similarities = similarity_search(query_embedding, document_embeddings, method=similarity_method)\n",
    "\n",
    "    # Step 4: Apply filtering based on criteria\n",
    "    if filter_criteria:\n",
    "        documents = filter_documents(documents, metadata, filter_criteria)\n",
    "\n",
    "    # Step 5: Rank documents by similarity\n",
    "    ranked_docs, ranked_similarities = rank_documents(documents, similarities, top_k=top_k)\n",
    "\n",
    "    # Step 6: Format results\n",
    "    result = {\n",
    "        \"documents\": ranked_docs,\n",
    "        \"scores\": ranked_similarities\n",
    "    }\n",
    "    return result\n"
   ]
  },
  {
   "cell_type": "markdown",
   "metadata": {
    "id": "ib9CNITV9m9g"
   },
   "source": [
    "# 4 Generation System"
   ]
  },
  {
   "cell_type": "markdown",
   "metadata": {
    "id": "NKK_r_5t93oa"
   },
   "source": [
    "Import Libraries\n",
    "\n"
   ]
  },
  {
   "cell_type": "code",
   "execution_count": 15,
   "metadata": {
    "id": "hEVRxdYj93Ps"
   },
   "outputs": [],
   "source": [
    "import openai\n"
   ]
  },
  {
   "cell_type": "markdown",
   "metadata": {
    "id": "pMnDJRFn99bv"
   },
   "source": [
    "Set up the OpenAI API Key\n"
   ]
  },
  {
   "cell_type": "code",
   "execution_count": 16,
   "metadata": {
    "id": "Ivfa5nmD9_Ww"
   },
   "outputs": [],
   "source": [
    "openai.api_key = \"\"\n"
   ]
  },
  {
   "cell_type": "markdown",
   "metadata": {
    "id": "hQc9gpmM-IeY"
   },
   "source": [
    "# Context Construction\n",
    "1 Prompt Templates: Define templates to structure prompts consistently.\n",
    "\n",
    "2 Context Management: Manage prompt length and context to fit within token limits.\n",
    "\n",
    "3 History Handling: Use chat history for continuity in multi-turn conversations."
   ]
  },
  {
   "cell_type": "code",
   "execution_count": 17,
   "metadata": {
    "id": "oW2GCi77-UUH"
   },
   "outputs": [],
   "source": [
    "# Define a base prompt template for the chatbot\n",
    "BASE_PROMPT_TEMPLATE = \"\"\"\n",
    "You are a financial assistant chatbot helping with investment-related questions. Use the following context to answer:\n",
    "\n",
    "Context:\n",
    "{context}\n",
    "\n",
    "Question:\n",
    "{query}\n",
    "\n",
    "Response:\n",
    "\"\"\"\n",
    "\n",
    "# Function to construct the prompt with context and query\n",
    "def construct_prompt(context, query):\n",
    "    return BASE_PROMPT_TEMPLATE.format(context=context, query=query)\n",
    "\n",
    "# History management (optional for multi-turn conversations)\n",
    "def update_context(history, max_tokens=200):\n",
    "    # Concatenate history for context management\n",
    "    full_context = \" \".join(history)\n",
    "    return full_context[-max_tokens:]  # Trim to max tokens\n"
   ]
  },
  {
   "cell_type": "markdown",
   "metadata": {
    "id": "_rkAGQFn-YCW"
   },
   "source": [
    "# Language Model Setup\n",
    "API-based models: Here, GPT-based models are used to generate responses based on context and query."
   ]
  },
  {
   "cell_type": "code",
   "execution_count": 18,
   "metadata": {
    "id": "S0Kil8yf-awW"
   },
   "outputs": [],
   "source": [
    "# Function to generate a response using GPT-3.5 or GPT-4\n",
    "def generate_response(prompt, model=\"gpt-3.5-turbo\", temperature=0.7, top_p=0.9):\n",
    "    response = openai.ChatCompletion.create(\n",
    "        model=model,\n",
    "        messages=[{\"role\": \"user\", \"content\": prompt}],\n",
    "        temperature=temperature,\n",
    "        top_p=top_p,\n",
    "        max_tokens=150\n",
    "    )\n",
    "    return response['choices'][0]['message']['content']\n"
   ]
  },
  {
   "cell_type": "markdown",
   "metadata": {
    "id": "HNC58_4o-fTF"
   },
   "source": [
    "# Response Generation\n",
    "Controls for temperature, sampling, and beam search:\n",
    "\n",
    "- Temperature: Adjusts randomness in responses (0.0 = deterministic, 1.0 = creative).\n",
    "-Top-k/Top-p Sampling: For diverse and meaningful outputs.\n",
    "- Beam Search: Generally more complex and used in models that support it, here replaced with sampling."
   ]
  },
  {
   "cell_type": "code",
   "execution_count": 19,
   "metadata": {
    "id": "XgMxGVoZ-pCD"
   },
   "outputs": [],
   "source": [
    "def get_response(context, query, history=None, temperature=0.7, top_p=0.9):\n",
    "    # Step 1: Manage Context Window\n",
    "    if history:\n",
    "        context = update_context(history)\n",
    "\n",
    "    # Step 2: Construct the Prompt\n",
    "    prompt = construct_prompt(context, query)\n",
    "\n",
    "    # Step 3: Generate the Response\n",
    "    response = generate_response(prompt, temperature=temperature, top_p=top_p)\n",
    "\n",
    "    # Update history if needed\n",
    "    if history is not None:\n",
    "        history.append(f\"User: {query}\\nBot: {response}\")\n",
    "\n",
    "    return response\n"
   ]
  },
  {
   "cell_type": "markdown",
   "metadata": {
    "id": "1xPsvg5K-tsZ"
   },
   "source": [
    "# Full Retrieval and Generation Pipeline Integration\n",
    "Combine the retrieval and generation stages to build a cohesive chatbot function."
   ]
  },
  {
   "cell_type": "code",
   "execution_count": 20,
   "metadata": {
    "id": "4-1V8gfx-xe2"
   },
   "outputs": [],
   "source": [
    "# Main chatbot function that integrates retrieval and generation\n",
    "def chatbot_pipeline(query, top_k=3, similarity_method=\"cosine\", filter_criteria=None, temperature=0.7, top_p=0.9):\n",
    "    # Step 1: Retrieve relevant documents\n",
    "    retrieval_results = retrieve_and_rank_documents(query, top_k=top_k, similarity_method=similarity_method, filter_criteria=filter_criteria)\n",
    "    context = \" \".join(retrieval_results[\"documents\"])  # Combine top documents as context\n",
    "\n",
    "    # Step 2: Generate a response using the context and query\n",
    "    response = get_response(context, query, temperature=temperature, top_p=top_p)\n",
    "\n",
    "    return response\n"
   ]
  },
  {
   "cell_type": "markdown",
   "metadata": {
    "id": "sZqCkmxw_Bw8"
   },
   "source": [
    "# 5 Additional Components Code\n",
    "**Memory Systems**\n",
    "A memory system allows the chatbot to retain useful information across conversations or provide context based on past interactions:\n",
    "\n",
    "**Short-term Memory:** Used to retain recent conversation history for coherent multi-turn interactions.\n",
    "\n",
    "**Long-term Memory**: Stores knowledge across sessions, helping the bot recall important details or user preferences."
   ]
  },
  {
   "cell_type": "code",
   "execution_count": 21,
   "metadata": {
    "id": "FtpsjTnR_KpB"
   },
   "outputs": [],
   "source": [
    "# Memory to store short-term conversation history\n",
    "class MemorySystem:\n",
    "    def __init__(self):\n",
    "        self.short_term_memory = []\n",
    "        self.long_term_memory = []\n",
    "\n",
    "    def update_short_term(self, conversation, max_length=5):\n",
    "        # Store recent conversation exchanges, limiting to 'max_length'\n",
    "        self.short_term_memory.append(conversation)\n",
    "        if len(self.short_term_memory) > max_length:\n",
    "            self.short_term_memory.pop(0)  # Remove oldest entry\n",
    "\n",
    "    def store_long_term(self, info):\n",
    "        # Append information to long-term knowledge storage\n",
    "        self.long_term_memory.append(info)\n",
    "\n",
    "    def get_short_term_context(self):\n",
    "        return \" \".join(self.short_term_memory)\n",
    "\n",
    "    def clear_short_term_memory(self):\n",
    "        self.short_term_memory = []\n"
   ]
  },
  {
   "cell_type": "markdown",
   "metadata": {
    "id": "14tOF-88_OFm"
   },
   "source": [
    "# Evaluation Metrics\n",
    "Tracking the chatbot's performance by evaluating response relevance, accuracy, and retrieval precision can help fine-tune the model. Here, a simplified logging system can track the quality of interactions."
   ]
  },
  {
   "cell_type": "code",
   "execution_count": 22,
   "metadata": {
    "id": "GhYqLjbi_QqE"
   },
   "outputs": [],
   "source": [
    "# Function to evaluate responses\n",
    "class EvaluationMetrics:\n",
    "    def __init__(self):\n",
    "        self.logs = []\n",
    "\n",
    "    def log_interaction(self, query, response, relevance_score, correctness_score):\n",
    "        self.logs.append({\n",
    "            \"query\": query,\n",
    "            \"response\": response,\n",
    "            \"relevance\": relevance_score,\n",
    "            \"correctness\": correctness_score\n",
    "        })\n",
    "\n",
    "    def calculate_average_scores(self):\n",
    "        relevance_avg = sum(log['relevance'] for log in self.logs) / len(self.logs) if self.logs else 0\n",
    "        correctness_avg = sum(log['correctness'] for log in self.logs) / len(self.logs) if self.logs else 0\n",
    "        return {\"avg_relevance\": relevance_avg, \"avg_correctness\": correctness_avg}\n"
   ]
  },
  {
   "cell_type": "markdown",
   "metadata": {
    "id": "T6Zh5FYl_U1R"
   },
   "source": [
    "**Relevance:** Assesses how well the response aligns with the query.\n",
    "\n",
    "---\n",
    "\n",
    "**Correctness**:  Scores the factual accuracy of responses.\n",
    "This scoring can be done manually for initial interactions or automated with user feedback later."
   ]
  },
  {
   "cell_type": "markdown",
   "metadata": {
    "id": "KOK2ijbh_j2P"
   },
   "source": [
    "# Monitoring & Logging\n",
    "Logging the chatbot’s interactions and performance helps with troubleshooting and improving response quality."
   ]
  },
  {
   "cell_type": "code",
   "execution_count": 23,
   "metadata": {
    "id": "13JjYnTq_mRn"
   },
   "outputs": [],
   "source": [
    "import logging\n",
    "\n",
    "# Configure the logging system\n",
    "logging.basicConfig(filename='chatbot.log', level=logging.INFO, format='%(asctime)s - %(message)s')\n",
    "\n",
    "class MonitoringSystem:\n",
    "    def log_performance(self, query, response, relevance, correctness):\n",
    "        logging.info(f\"Query: {query}, Response: {response}, Relevance: {relevance}, Correctness: {correctness}\")\n",
    "\n",
    "    def log_error(self, error_msg):\n",
    "        logging.error(f\"Error: {error_msg}\")\n",
    "\n",
    "    def log_usage(self, query, user_info):\n",
    "        logging.info(f\"User: {user_info}, Query: {query}\")\n"
   ]
  },
  {
   "cell_type": "markdown",
   "metadata": {
    "id": "phc-H5xk_tJf"
   },
   "source": [
    "- **Performance Tracking:** Logs relevance and correctness for model improvement.\n",
    "- **Error Handling:** Captures errors to help refine error-handling mechanisms.\n",
    "- **Usage Analytics:** Tracks user queries and metadata for usage trends."
   ]
  },
  {
   "cell_type": "markdown",
   "metadata": {
    "id": "WXkAHq9X_2e0"
   },
   "source": [
    "# Integrating Additional Components\n",
    "Now, integrate these components into the chatbot_pipeline:"
   ]
  },
  {
   "cell_type": "code",
   "execution_count": 24,
   "metadata": {
    "id": "UKAbVvUJ_6Yz"
   },
   "outputs": [],
   "source": [
    "# Instantiate the memory, evaluation, and monitoring systems\n",
    "memory_system = MemorySystem()\n",
    "evaluation_metrics = EvaluationMetrics()\n",
    "monitoring_system = MonitoringSystem()\n",
    "\n",
    "def chatbot_pipeline(query, user_info=None, top_k=3, similarity_method=\"cosine\", filter_criteria=None, temperature=0.7, top_p=0.9):\n",
    "    try:\n",
    "        # Step 1: Retrieve relevant documents\n",
    "        retrieval_results = retrieve_and_rank_documents(query, top_k=top_k, similarity_method=similarity_method, filter_criteria=filter_criteria)\n",
    "        context = \" \".join(retrieval_results[\"documents\"])\n",
    "\n",
    "        # Step 2: Generate response with updated context\n",
    "        short_term_context = memory_system.get_short_term_context()\n",
    "        full_context = f\"{short_term_context} {context}\"\n",
    "        response = get_response(full_context, query, temperature=temperature, top_p=top_p)\n",
    "\n",
    "        # Step 3: Evaluate and log response\n",
    "        relevance_score, correctness_score = 1.0, 1.0  # Placeholder values; replace with actual scoring logic\n",
    "        evaluation_metrics.log_interaction(query, response, relevance_score, correctness_score)\n",
    "        monitoring_system.log_performance(query, response, relevance_score, correctness_score)\n",
    "        if user_info:\n",
    "            monitoring_system.log_usage(query, user_info)\n",
    "\n",
    "        # Step 4: Update short-term memory\n",
    "        memory_system.update_short_term(f\"User: {query}\\nBot: {response}\")\n",
    "\n",
    "        return response\n",
    "\n",
    "    except Exception as e:\n",
    "        error_msg = str(e)\n",
    "        monitoring_system.log_error(error_msg)\n",
    "        return \"I'm sorry, but there was an error processing your request.\"\n"
   ]
  },
  {
   "cell_type": "markdown",
   "metadata": {
    "id": "P8GTQhgcAVmV"
   },
   "source": [
    "# **6 -Full Gradio Interface Code**\n",
    "The interface will allow users to interact with the chatbot, with Gradio managing the user input and displaying the generated responses."
   ]
  },
  {
   "cell_type": "code",
   "execution_count": 25,
   "metadata": {
    "id": "QZMdrzf_BFq9"
   },
   "outputs": [],
   "source": [
    "import traceback\n",
    "\n",
    "def chatbot_interface(input_text):\n",
    "    try:\n",
    "        # Call your chatbot processing functions here\n",
    "        result = process_chatbot(input_text)  # Replace with your function\n",
    "        return result\n",
    "    except Exception as e:\n",
    "        error_message = f\"An error occurred: {str(e)}\\n{traceback.format_exc()}\"\n",
    "        print(error_message)  # Logs the detailed error traceback\n",
    "        return \"I'm sorry, but there was an error processing your request.\"\n",
    "\n"
   ]
  },
  {
   "cell_type": "code",
   "execution_count": 26,
   "metadata": {
    "colab": {
     "base_uri": "https://localhost:8080/",
     "height": 613
    },
    "id": "eweuZckYAcd-",
    "outputId": "91b3ced6-7081-4cb3-9366-73a005d484c2"
   },
   "outputs": [
    {
     "name": "stdout",
     "output_type": "stream",
     "text": [
      "* Running on local URL:  http://127.0.0.1:7860\n",
      "\n",
      "Could not create share link. Please check your internet connection or our status page: https://status.gradio.app.\n"
     ]
    },
    {
     "data": {
      "text/html": [
       "<div><iframe src=\"http://127.0.0.1:7860/\" width=\"100%\" height=\"500\" allow=\"autoplay; camera; microphone; clipboard-read; clipboard-write;\" frameborder=\"0\" allowfullscreen></iframe></div>"
      ],
      "text/plain": [
       "<IPython.core.display.HTML object>"
      ]
     },
     "metadata": {},
     "output_type": "display_data"
    },
    {
     "data": {
      "text/plain": []
     },
     "execution_count": 26,
     "metadata": {},
     "output_type": "execute_result"
    }
   ],
   "source": [
    "import gradio as gr\n",
    "\n",
    "# Define Gradio interface function\n",
    "def gradio_chatbot_interface(user_query):\n",
    "    # Pass the user query into the chatbot pipeline and get the response\n",
    "    response = chatbot_pipeline(query=user_query, user_info=\"User123\")  # Replace with actual user info if available\n",
    "    return response\n",
    "\n",
    "# Define the Gradio interface layout\n",
    "with gr.Blocks() as demo:\n",
    "    gr.Markdown(\"## RAG-Based Financial Chatbot\")\n",
    "\n",
    "    with gr.Row():\n",
    "        with gr.Column():\n",
    "            user_query = gr.Textbox(label=\"Your Query\", placeholder=\"Ask a question about financial data...\")\n",
    "            submit_button = gr.Button(\"Submit\")\n",
    "\n",
    "        with gr.Column():\n",
    "            bot_response = gr.Textbox(label=\"Chatbot Response\", placeholder=\"The bot's response will appear here...\", interactive=False)\n",
    "\n",
    "    # Define button interaction with the function\n",
    "    submit_button.click(fn=gradio_chatbot_interface, inputs=user_query, outputs=bot_response)\n",
    "\n",
    "# Launch the interface\n",
    "demo.launch(share=True)\n"
   ]
  },
  {
   "cell_type": "code",
   "execution_count": 27,
   "metadata": {
    "colab": {
     "base_uri": "https://localhost:8080/"
    },
    "id": "lt6VpfchDQpN",
    "outputId": "3d7a2910-0f68-4bfa-aaf3-7b4fe8eb08d5"
   },
   "outputs": [
    {
     "name": "stdout",
     "output_type": "stream",
     "text": [
      "Found existing installation: huggingface-hub 0.26.3\n",
      "Uninstalling huggingface-hub-0.26.3:\n",
      "  Successfully uninstalled huggingface-hub-0.26.3\n",
      "Found existing installation: sentence-transformers 3.3.1\n",
      "Uninstalling sentence-transformers-3.3.1:\n",
      "  Successfully uninstalled sentence-transformers-3.3.1\n"
     ]
    }
   ],
   "source": [
    "!pip uninstall -y huggingface_hub sentence-transformers\n"
   ]
  },
  {
   "cell_type": "code",
   "execution_count": 28,
   "metadata": {},
   "outputs": [
    {
     "name": "stdout",
     "output_type": "stream",
     "text": [
      "Requirement already satisfied: openai in c:\\users\\anaha\\appdata\\local\\programs\\python\\python312\\lib\\site-packages (1.12.0)\n",
      "Requirement already satisfied: chromadb in c:\\users\\anaha\\appdata\\local\\programs\\python\\python312\\lib\\site-packages (0.5.20)\n",
      "Requirement already satisfied: PyMuPDF in c:\\users\\anaha\\appdata\\local\\programs\\python\\python312\\lib\\site-packages (1.24.14)\n",
      "Requirement already satisfied: requests in c:\\users\\anaha\\appdata\\local\\programs\\python\\python312\\lib\\site-packages (2.31.0)\n",
      "Requirement already satisfied: beautifulsoup4 in c:\\users\\anaha\\appdata\\local\\programs\\python\\python312\\lib\\site-packages (4.12.3)\n",
      "Requirement already satisfied: transformers in c:\\users\\anaha\\appdata\\local\\programs\\python\\python312\\lib\\site-packages (4.46.3)\n",
      "Requirement already satisfied: gradio in c:\\users\\anaha\\appdata\\local\\programs\\python\\python312\\lib\\site-packages (5.7.1)\n",
      "Requirement already satisfied: nltk in c:\\users\\anaha\\appdata\\local\\programs\\python\\python312\\lib\\site-packages (3.9.1)\n",
      "Requirement already satisfied: torch in c:\\users\\anaha\\appdata\\local\\programs\\python\\python312\\lib\\site-packages (2.5.1)\n",
      "Requirement already satisfied: scikit-learn in c:\\users\\anaha\\appdata\\local\\programs\\python\\python312\\lib\\site-packages (1.5.2)\n",
      "Collecting sentence-transformers\n",
      "  Using cached sentence_transformers-3.3.1-py3-none-any.whl.metadata (10 kB)\n",
      "Requirement already satisfied: anyio<5,>=3.5.0 in c:\\users\\anaha\\appdata\\local\\programs\\python\\python312\\lib\\site-packages (from openai) (3.7.1)\n",
      "Requirement already satisfied: distro<2,>=1.7.0 in c:\\users\\anaha\\appdata\\local\\programs\\python\\python312\\lib\\site-packages (from openai) (1.9.0)\n",
      "Requirement already satisfied: httpx<1,>=0.23.0 in c:\\users\\anaha\\appdata\\local\\programs\\python\\python312\\lib\\site-packages (from openai) (0.27.0)\n",
      "Requirement already satisfied: pydantic<3,>=1.9.0 in c:\\users\\anaha\\appdata\\local\\programs\\python\\python312\\lib\\site-packages (from openai) (2.5.2)\n",
      "Requirement already satisfied: sniffio in c:\\users\\anaha\\appdata\\local\\programs\\python\\python312\\lib\\site-packages (from openai) (1.3.1)\n",
      "Requirement already satisfied: tqdm>4 in c:\\users\\anaha\\appdata\\local\\programs\\python\\python312\\lib\\site-packages (from openai) (4.67.0)\n",
      "Requirement already satisfied: typing-extensions<5,>=4.7 in c:\\users\\anaha\\appdata\\local\\programs\\python\\python312\\lib\\site-packages (from openai) (4.12.2)\n",
      "Requirement already satisfied: build>=1.0.3 in c:\\users\\anaha\\appdata\\local\\programs\\python\\python312\\lib\\site-packages (from chromadb) (1.2.2.post1)\n",
      "Requirement already satisfied: chroma-hnswlib==0.7.6 in c:\\users\\anaha\\appdata\\local\\programs\\python\\python312\\lib\\site-packages (from chromadb) (0.7.6)\n",
      "Requirement already satisfied: fastapi>=0.95.2 in c:\\users\\anaha\\appdata\\local\\programs\\python\\python312\\lib\\site-packages (from chromadb) (0.115.5)\n",
      "Requirement already satisfied: uvicorn>=0.18.3 in c:\\users\\anaha\\appdata\\local\\programs\\python\\python312\\lib\\site-packages (from uvicorn[standard]>=0.18.3->chromadb) (0.24.0)\n",
      "Requirement already satisfied: numpy>=1.22.5 in c:\\users\\anaha\\appdata\\local\\programs\\python\\python312\\lib\\site-packages (from chromadb) (2.0.2)\n",
      "Requirement already satisfied: posthog>=2.4.0 in c:\\users\\anaha\\appdata\\local\\programs\\python\\python312\\lib\\site-packages (from chromadb) (3.7.0)\n",
      "Requirement already satisfied: onnxruntime>=1.14.1 in c:\\users\\anaha\\appdata\\local\\programs\\python\\python312\\lib\\site-packages (from chromadb) (1.20.0)\n",
      "Requirement already satisfied: opentelemetry-api>=1.2.0 in c:\\users\\anaha\\appdata\\local\\programs\\python\\python312\\lib\\site-packages (from chromadb) (1.28.1)\n",
      "Requirement already satisfied: opentelemetry-exporter-otlp-proto-grpc>=1.2.0 in c:\\users\\anaha\\appdata\\local\\programs\\python\\python312\\lib\\site-packages (from chromadb) (1.28.1)\n",
      "Requirement already satisfied: opentelemetry-instrumentation-fastapi>=0.41b0 in c:\\users\\anaha\\appdata\\local\\programs\\python\\python312\\lib\\site-packages (from chromadb) (0.49b1)\n",
      "Requirement already satisfied: opentelemetry-sdk>=1.2.0 in c:\\users\\anaha\\appdata\\local\\programs\\python\\python312\\lib\\site-packages (from chromadb) (1.28.1)\n",
      "Requirement already satisfied: tokenizers>=0.13.2 in c:\\users\\anaha\\appdata\\local\\programs\\python\\python312\\lib\\site-packages (from chromadb) (0.20.3)\n",
      "Requirement already satisfied: pypika>=0.48.9 in c:\\users\\anaha\\appdata\\local\\programs\\python\\python312\\lib\\site-packages (from chromadb) (0.48.9)\n",
      "Requirement already satisfied: overrides>=7.3.1 in c:\\users\\anaha\\appdata\\local\\programs\\python\\python312\\lib\\site-packages (from chromadb) (7.7.0)\n",
      "Requirement already satisfied: importlib-resources in c:\\users\\anaha\\appdata\\local\\programs\\python\\python312\\lib\\site-packages (from chromadb) (6.4.5)\n",
      "Requirement already satisfied: grpcio>=1.58.0 in c:\\users\\anaha\\appdata\\local\\programs\\python\\python312\\lib\\site-packages (from chromadb) (1.67.1)\n",
      "Requirement already satisfied: bcrypt>=4.0.1 in c:\\users\\anaha\\appdata\\local\\programs\\python\\python312\\lib\\site-packages (from chromadb) (4.2.0)\n",
      "Requirement already satisfied: typer>=0.9.0 in c:\\users\\anaha\\appdata\\local\\programs\\python\\python312\\lib\\site-packages (from chromadb) (0.13.0)\n",
      "Requirement already satisfied: kubernetes>=28.1.0 in c:\\users\\anaha\\appdata\\local\\programs\\python\\python312\\lib\\site-packages (from chromadb) (31.0.0)\n",
      "Requirement already satisfied: tenacity>=8.2.3 in c:\\users\\anaha\\appdata\\local\\programs\\python\\python312\\lib\\site-packages (from chromadb) (9.0.0)\n",
      "Requirement already satisfied: PyYAML>=6.0.0 in c:\\users\\anaha\\appdata\\local\\programs\\python\\python312\\lib\\site-packages (from chromadb) (6.0.2)\n",
      "Requirement already satisfied: mmh3>=4.0.1 in c:\\users\\anaha\\appdata\\local\\programs\\python\\python312\\lib\\site-packages (from chromadb) (5.0.1)\n",
      "Requirement already satisfied: orjson>=3.9.12 in c:\\users\\anaha\\appdata\\local\\programs\\python\\python312\\lib\\site-packages (from chromadb) (3.10.11)\n",
      "Requirement already satisfied: rich>=10.11.0 in c:\\users\\anaha\\appdata\\local\\programs\\python\\python312\\lib\\site-packages (from chromadb) (13.9.4)\n",
      "Requirement already satisfied: charset-normalizer<4,>=2 in c:\\users\\anaha\\appdata\\local\\programs\\python\\python312\\lib\\site-packages (from requests) (3.3.2)\n",
      "Requirement already satisfied: idna<4,>=2.5 in c:\\users\\anaha\\appdata\\local\\programs\\python\\python312\\lib\\site-packages (from requests) (3.7)\n",
      "Requirement already satisfied: urllib3<3,>=1.21.1 in c:\\users\\anaha\\appdata\\local\\programs\\python\\python312\\lib\\site-packages (from requests) (2.2.2)\n",
      "Requirement already satisfied: certifi>=2017.4.17 in c:\\users\\anaha\\appdata\\local\\programs\\python\\python312\\lib\\site-packages (from requests) (2024.7.4)\n",
      "Requirement already satisfied: soupsieve>1.2 in c:\\users\\anaha\\appdata\\local\\programs\\python\\python312\\lib\\site-packages (from beautifulsoup4) (2.6)\n",
      "Requirement already satisfied: filelock in c:\\users\\anaha\\appdata\\local\\programs\\python\\python312\\lib\\site-packages (from transformers) (3.16.1)\n",
      "Collecting huggingface-hub<1.0,>=0.23.2 (from transformers)\n",
      "  Using cached huggingface_hub-0.26.3-py3-none-any.whl.metadata (13 kB)\n",
      "Requirement already satisfied: packaging>=20.0 in c:\\users\\anaha\\appdata\\local\\programs\\python\\python312\\lib\\site-packages (from transformers) (24.1)\n",
      "Requirement already satisfied: regex!=2019.12.17 in c:\\users\\anaha\\appdata\\local\\programs\\python\\python312\\lib\\site-packages (from transformers) (2024.11.6)\n",
      "Requirement already satisfied: safetensors>=0.4.1 in c:\\users\\anaha\\appdata\\local\\programs\\python\\python312\\lib\\site-packages (from transformers) (0.4.5)\n",
      "Requirement already satisfied: aiofiles<24.0,>=22.0 in c:\\users\\anaha\\appdata\\local\\programs\\python\\python312\\lib\\site-packages (from gradio) (23.2.1)\n",
      "Requirement already satisfied: ffmpy in c:\\users\\anaha\\appdata\\local\\programs\\python\\python312\\lib\\site-packages (from gradio) (0.4.0)\n",
      "Requirement already satisfied: gradio-client==1.5.0 in c:\\users\\anaha\\appdata\\local\\programs\\python\\python312\\lib\\site-packages (from gradio) (1.5.0)\n",
      "Requirement already satisfied: jinja2<4.0 in c:\\users\\anaha\\appdata\\local\\programs\\python\\python312\\lib\\site-packages (from gradio) (3.1.4)\n",
      "Requirement already satisfied: markupsafe~=2.0 in c:\\users\\anaha\\appdata\\local\\programs\\python\\python312\\lib\\site-packages (from gradio) (2.1.5)\n",
      "Requirement already satisfied: pandas<3.0,>=1.0 in c:\\users\\anaha\\appdata\\local\\programs\\python\\python312\\lib\\site-packages (from gradio) (2.2.3)\n",
      "Requirement already satisfied: pillow<12.0,>=8.0 in c:\\users\\anaha\\appdata\\local\\programs\\python\\python312\\lib\\site-packages (from gradio) (10.1.0)\n",
      "Requirement already satisfied: pydub in c:\\users\\anaha\\appdata\\local\\programs\\python\\python312\\lib\\site-packages (from gradio) (0.25.1)\n",
      "Requirement already satisfied: python-multipart==0.0.12 in c:\\users\\anaha\\appdata\\local\\programs\\python\\python312\\lib\\site-packages (from gradio) (0.0.12)\n",
      "Requirement already satisfied: ruff>=0.2.2 in c:\\users\\anaha\\appdata\\local\\programs\\python\\python312\\lib\\site-packages (from gradio) (0.7.3)\n",
      "Requirement already satisfied: safehttpx<1.0,>=0.1.1 in c:\\users\\anaha\\appdata\\local\\programs\\python\\python312\\lib\\site-packages (from gradio) (0.1.1)\n",
      "Requirement already satisfied: semantic-version~=2.0 in c:\\users\\anaha\\appdata\\local\\programs\\python\\python312\\lib\\site-packages (from gradio) (2.10.0)\n",
      "Requirement already satisfied: starlette<1.0,>=0.40.0 in c:\\users\\anaha\\appdata\\local\\programs\\python\\python312\\lib\\site-packages (from gradio) (0.41.3)\n",
      "Requirement already satisfied: tomlkit==0.12.0 in c:\\users\\anaha\\appdata\\local\\programs\\python\\python312\\lib\\site-packages (from gradio) (0.12.0)\n",
      "Requirement already satisfied: fsspec in c:\\users\\anaha\\appdata\\local\\programs\\python\\python312\\lib\\site-packages (from gradio-client==1.5.0->gradio) (2024.10.0)\n",
      "Requirement already satisfied: websockets<13.0,>=10.0 in c:\\users\\anaha\\appdata\\local\\programs\\python\\python312\\lib\\site-packages (from gradio-client==1.5.0->gradio) (11.0.3)\n",
      "Requirement already satisfied: click in c:\\users\\anaha\\appdata\\local\\programs\\python\\python312\\lib\\site-packages (from nltk) (8.1.7)\n",
      "Requirement already satisfied: joblib in c:\\users\\anaha\\appdata\\local\\programs\\python\\python312\\lib\\site-packages (from nltk) (1.4.2)\n",
      "Requirement already satisfied: networkx in c:\\users\\anaha\\appdata\\local\\programs\\python\\python312\\lib\\site-packages (from torch) (3.4.2)\n",
      "Requirement already satisfied: setuptools in c:\\users\\anaha\\appdata\\local\\programs\\python\\python312\\lib\\site-packages (from torch) (72.2.0)\n",
      "Requirement already satisfied: sympy==1.13.1 in c:\\users\\anaha\\appdata\\local\\programs\\python\\python312\\lib\\site-packages (from torch) (1.13.1)\n",
      "Requirement already satisfied: mpmath<1.4,>=1.1.0 in c:\\users\\anaha\\appdata\\local\\programs\\python\\python312\\lib\\site-packages (from sympy==1.13.1->torch) (1.3.0)\n",
      "Requirement already satisfied: scipy>=1.6.0 in c:\\users\\anaha\\appdata\\local\\programs\\python\\python312\\lib\\site-packages (from scikit-learn) (1.14.1)\n",
      "Requirement already satisfied: threadpoolctl>=3.1.0 in c:\\users\\anaha\\appdata\\local\\programs\\python\\python312\\lib\\site-packages (from scikit-learn) (3.5.0)\n",
      "Requirement already satisfied: pyproject_hooks in c:\\users\\anaha\\appdata\\local\\programs\\python\\python312\\lib\\site-packages (from build>=1.0.3->chromadb) (1.2.0)\n",
      "Requirement already satisfied: colorama in c:\\users\\anaha\\appdata\\local\\programs\\python\\python312\\lib\\site-packages (from build>=1.0.3->chromadb) (0.4.6)\n",
      "Requirement already satisfied: httpcore==1.* in c:\\users\\anaha\\appdata\\local\\programs\\python\\python312\\lib\\site-packages (from httpx<1,>=0.23.0->openai) (1.0.5)\n",
      "Requirement already satisfied: h11<0.15,>=0.13 in c:\\users\\anaha\\appdata\\local\\programs\\python\\python312\\lib\\site-packages (from httpcore==1.*->httpx<1,>=0.23.0->openai) (0.14.0)\n",
      "Requirement already satisfied: six>=1.9.0 in c:\\users\\anaha\\appdata\\local\\programs\\python\\python312\\lib\\site-packages (from kubernetes>=28.1.0->chromadb) (1.16.0)\n",
      "Requirement already satisfied: python-dateutil>=2.5.3 in c:\\users\\anaha\\appdata\\local\\programs\\python\\python312\\lib\\site-packages (from kubernetes>=28.1.0->chromadb) (2.9.0.post0)\n",
      "Requirement already satisfied: google-auth>=1.0.1 in c:\\users\\anaha\\appdata\\local\\programs\\python\\python312\\lib\\site-packages (from kubernetes>=28.1.0->chromadb) (2.35.0)\n",
      "Requirement already satisfied: websocket-client!=0.40.0,!=0.41.*,!=0.42.*,>=0.32.0 in c:\\users\\anaha\\appdata\\local\\programs\\python\\python312\\lib\\site-packages (from kubernetes>=28.1.0->chromadb) (1.8.0)\n",
      "Requirement already satisfied: requests-oauthlib in c:\\users\\anaha\\appdata\\local\\programs\\python\\python312\\lib\\site-packages (from kubernetes>=28.1.0->chromadb) (2.0.0)\n",
      "Requirement already satisfied: oauthlib>=3.2.2 in c:\\users\\anaha\\appdata\\local\\programs\\python\\python312\\lib\\site-packages (from kubernetes>=28.1.0->chromadb) (3.2.2)\n",
      "Requirement already satisfied: durationpy>=0.7 in c:\\users\\anaha\\appdata\\local\\programs\\python\\python312\\lib\\site-packages (from kubernetes>=28.1.0->chromadb) (0.9)\n",
      "Requirement already satisfied: coloredlogs in c:\\users\\anaha\\appdata\\local\\programs\\python\\python312\\lib\\site-packages (from onnxruntime>=1.14.1->chromadb) (15.0.1)\n",
      "Requirement already satisfied: flatbuffers in c:\\users\\anaha\\appdata\\local\\programs\\python\\python312\\lib\\site-packages (from onnxruntime>=1.14.1->chromadb) (24.3.25)\n",
      "Requirement already satisfied: protobuf in c:\\users\\anaha\\appdata\\local\\programs\\python\\python312\\lib\\site-packages (from onnxruntime>=1.14.1->chromadb) (5.28.2)\n",
      "Requirement already satisfied: deprecated>=1.2.6 in c:\\users\\anaha\\appdata\\local\\programs\\python\\python312\\lib\\site-packages (from opentelemetry-api>=1.2.0->chromadb) (1.2.14)\n",
      "Requirement already satisfied: importlib-metadata<=8.5.0,>=6.0 in c:\\users\\anaha\\appdata\\local\\programs\\python\\python312\\lib\\site-packages (from opentelemetry-api>=1.2.0->chromadb) (8.5.0)\n",
      "Requirement already satisfied: googleapis-common-protos~=1.52 in c:\\users\\anaha\\appdata\\local\\programs\\python\\python312\\lib\\site-packages (from opentelemetry-exporter-otlp-proto-grpc>=1.2.0->chromadb) (1.65.0)\n",
      "Requirement already satisfied: opentelemetry-exporter-otlp-proto-common==1.28.1 in c:\\users\\anaha\\appdata\\local\\programs\\python\\python312\\lib\\site-packages (from opentelemetry-exporter-otlp-proto-grpc>=1.2.0->chromadb) (1.28.1)\n",
      "Requirement already satisfied: opentelemetry-proto==1.28.1 in c:\\users\\anaha\\appdata\\local\\programs\\python\\python312\\lib\\site-packages (from opentelemetry-exporter-otlp-proto-grpc>=1.2.0->chromadb) (1.28.1)\n",
      "Requirement already satisfied: opentelemetry-instrumentation-asgi==0.49b1 in c:\\users\\anaha\\appdata\\local\\programs\\python\\python312\\lib\\site-packages (from opentelemetry-instrumentation-fastapi>=0.41b0->chromadb) (0.49b1)\n",
      "Requirement already satisfied: opentelemetry-instrumentation==0.49b1 in c:\\users\\anaha\\appdata\\local\\programs\\python\\python312\\lib\\site-packages (from opentelemetry-instrumentation-fastapi>=0.41b0->chromadb) (0.49b1)\n",
      "Requirement already satisfied: opentelemetry-semantic-conventions==0.49b1 in c:\\users\\anaha\\appdata\\local\\programs\\python\\python312\\lib\\site-packages (from opentelemetry-instrumentation-fastapi>=0.41b0->chromadb) (0.49b1)\n",
      "Requirement already satisfied: opentelemetry-util-http==0.49b1 in c:\\users\\anaha\\appdata\\local\\programs\\python\\python312\\lib\\site-packages (from opentelemetry-instrumentation-fastapi>=0.41b0->chromadb) (0.49b1)\n",
      "Requirement already satisfied: wrapt<2.0.0,>=1.0.0 in c:\\users\\anaha\\appdata\\local\\programs\\python\\python312\\lib\\site-packages (from opentelemetry-instrumentation==0.49b1->opentelemetry-instrumentation-fastapi>=0.41b0->chromadb) (1.16.0)\n",
      "Requirement already satisfied: asgiref~=3.0 in c:\\users\\anaha\\appdata\\local\\programs\\python\\python312\\lib\\site-packages (from opentelemetry-instrumentation-asgi==0.49b1->opentelemetry-instrumentation-fastapi>=0.41b0->chromadb) (3.8.1)\n",
      "Requirement already satisfied: pytz>=2020.1 in c:\\users\\anaha\\appdata\\local\\programs\\python\\python312\\lib\\site-packages (from pandas<3.0,>=1.0->gradio) (2024.2)\n",
      "Requirement already satisfied: tzdata>=2022.7 in c:\\users\\anaha\\appdata\\local\\programs\\python\\python312\\lib\\site-packages (from pandas<3.0,>=1.0->gradio) (2024.2)\n",
      "Requirement already satisfied: monotonic>=1.5 in c:\\users\\anaha\\appdata\\local\\programs\\python\\python312\\lib\\site-packages (from posthog>=2.4.0->chromadb) (1.6)\n",
      "Requirement already satisfied: backoff>=1.10.0 in c:\\users\\anaha\\appdata\\local\\programs\\python\\python312\\lib\\site-packages (from posthog>=2.4.0->chromadb) (2.2.1)\n",
      "Requirement already satisfied: annotated-types>=0.4.0 in c:\\users\\anaha\\appdata\\local\\programs\\python\\python312\\lib\\site-packages (from pydantic<3,>=1.9.0->openai) (0.7.0)\n",
      "Requirement already satisfied: pydantic-core==2.14.5 in c:\\users\\anaha\\appdata\\local\\programs\\python\\python312\\lib\\site-packages (from pydantic<3,>=1.9.0->openai) (2.14.5)\n",
      "Requirement already satisfied: markdown-it-py>=2.2.0 in c:\\users\\anaha\\appdata\\local\\programs\\python\\python312\\lib\\site-packages (from rich>=10.11.0->chromadb) (3.0.0)\n",
      "Requirement already satisfied: pygments<3.0.0,>=2.13.0 in c:\\users\\anaha\\appdata\\local\\programs\\python\\python312\\lib\\site-packages (from rich>=10.11.0->chromadb) (2.18.0)\n",
      "Requirement already satisfied: shellingham>=1.3.0 in c:\\users\\anaha\\appdata\\local\\programs\\python\\python312\\lib\\site-packages (from typer>=0.9.0->chromadb) (1.5.4)\n",
      "Requirement already satisfied: httptools>=0.5.0 in c:\\users\\anaha\\appdata\\local\\programs\\python\\python312\\lib\\site-packages (from uvicorn[standard]>=0.18.3->chromadb) (0.6.4)\n",
      "Requirement already satisfied: python-dotenv>=0.13 in c:\\users\\anaha\\appdata\\local\\programs\\python\\python312\\lib\\site-packages (from uvicorn[standard]>=0.18.3->chromadb) (1.0.1)\n",
      "Requirement already satisfied: watchfiles>=0.13 in c:\\users\\anaha\\appdata\\local\\programs\\python\\python312\\lib\\site-packages (from uvicorn[standard]>=0.18.3->chromadb) (0.24.0)\n",
      "Requirement already satisfied: cachetools<6.0,>=2.0.0 in c:\\users\\anaha\\appdata\\local\\programs\\python\\python312\\lib\\site-packages (from google-auth>=1.0.1->kubernetes>=28.1.0->chromadb) (5.5.0)\n",
      "Requirement already satisfied: pyasn1-modules>=0.2.1 in c:\\users\\anaha\\appdata\\local\\programs\\python\\python312\\lib\\site-packages (from google-auth>=1.0.1->kubernetes>=28.1.0->chromadb) (0.4.1)\n",
      "Requirement already satisfied: rsa<5,>=3.1.4 in c:\\users\\anaha\\appdata\\local\\programs\\python\\python312\\lib\\site-packages (from google-auth>=1.0.1->kubernetes>=28.1.0->chromadb) (4.9)\n",
      "Requirement already satisfied: zipp>=3.20 in c:\\users\\anaha\\appdata\\local\\programs\\python\\python312\\lib\\site-packages (from importlib-metadata<=8.5.0,>=6.0->opentelemetry-api>=1.2.0->chromadb) (3.20.2)\n",
      "Requirement already satisfied: mdurl~=0.1 in c:\\users\\anaha\\appdata\\local\\programs\\python\\python312\\lib\\site-packages (from markdown-it-py>=2.2.0->rich>=10.11.0->chromadb) (0.1.2)\n",
      "Requirement already satisfied: humanfriendly>=9.1 in c:\\users\\anaha\\appdata\\local\\programs\\python\\python312\\lib\\site-packages (from coloredlogs->onnxruntime>=1.14.1->chromadb) (10.0)\n",
      "Requirement already satisfied: pyreadline3 in c:\\users\\anaha\\appdata\\local\\programs\\python\\python312\\lib\\site-packages (from humanfriendly>=9.1->coloredlogs->onnxruntime>=1.14.1->chromadb) (3.5.4)\n",
      "Requirement already satisfied: pyasn1<0.7.0,>=0.4.6 in c:\\users\\anaha\\appdata\\local\\programs\\python\\python312\\lib\\site-packages (from pyasn1-modules>=0.2.1->google-auth>=1.0.1->kubernetes>=28.1.0->chromadb) (0.6.1)\n",
      "Using cached sentence_transformers-3.3.1-py3-none-any.whl (268 kB)\n",
      "Using cached huggingface_hub-0.26.3-py3-none-any.whl (447 kB)\n",
      "Installing collected packages: huggingface-hub, sentence-transformers\n",
      "Successfully installed huggingface-hub-0.26.3 sentence-transformers-3.3.1\n",
      "Note: you may need to restart the kernel to use updated packages.\n"
     ]
    }
   ],
   "source": [
    "  pip install openai chromadb PyMuPDF requests beautifulsoup4 transformers gradio nltk torch scikit-learn sentence-transformers"
   ]
  },
  {
   "cell_type": "code",
   "execution_count": 29,
   "metadata": {},
   "outputs": [
    {
     "name": "stdout",
     "output_type": "stream",
     "text": [
      "Requirement already satisfied: openai==1.12.0 in c:\\users\\anaha\\appdata\\local\\programs\\python\\python312\\lib\\site-packages (1.12.0)\n",
      "Requirement already satisfied: gradio in c:\\users\\anaha\\appdata\\local\\programs\\python\\python312\\lib\\site-packages (5.7.1)\n",
      "Requirement already satisfied: anyio<5,>=3.5.0 in c:\\users\\anaha\\appdata\\local\\programs\\python\\python312\\lib\\site-packages (from openai==1.12.0) (3.7.1)\n",
      "Requirement already satisfied: distro<2,>=1.7.0 in c:\\users\\anaha\\appdata\\local\\programs\\python\\python312\\lib\\site-packages (from openai==1.12.0) (1.9.0)\n",
      "Requirement already satisfied: httpx<1,>=0.23.0 in c:\\users\\anaha\\appdata\\local\\programs\\python\\python312\\lib\\site-packages (from openai==1.12.0) (0.27.0)\n",
      "Requirement already satisfied: pydantic<3,>=1.9.0 in c:\\users\\anaha\\appdata\\local\\programs\\python\\python312\\lib\\site-packages (from openai==1.12.0) (2.5.2)\n",
      "Requirement already satisfied: sniffio in c:\\users\\anaha\\appdata\\local\\programs\\python\\python312\\lib\\site-packages (from openai==1.12.0) (1.3.1)\n",
      "Requirement already satisfied: tqdm>4 in c:\\users\\anaha\\appdata\\local\\programs\\python\\python312\\lib\\site-packages (from openai==1.12.0) (4.67.0)\n",
      "Requirement already satisfied: typing-extensions<5,>=4.7 in c:\\users\\anaha\\appdata\\local\\programs\\python\\python312\\lib\\site-packages (from openai==1.12.0) (4.12.2)\n",
      "Requirement already satisfied: aiofiles<24.0,>=22.0 in c:\\users\\anaha\\appdata\\local\\programs\\python\\python312\\lib\\site-packages (from gradio) (23.2.1)\n",
      "Requirement already satisfied: fastapi<1.0,>=0.115.2 in c:\\users\\anaha\\appdata\\local\\programs\\python\\python312\\lib\\site-packages (from gradio) (0.115.5)\n",
      "Requirement already satisfied: ffmpy in c:\\users\\anaha\\appdata\\local\\programs\\python\\python312\\lib\\site-packages (from gradio) (0.4.0)\n",
      "Requirement already satisfied: gradio-client==1.5.0 in c:\\users\\anaha\\appdata\\local\\programs\\python\\python312\\lib\\site-packages (from gradio) (1.5.0)\n",
      "Requirement already satisfied: huggingface-hub>=0.25.1 in c:\\users\\anaha\\appdata\\local\\programs\\python\\python312\\lib\\site-packages (from gradio) (0.26.3)\n",
      "Requirement already satisfied: jinja2<4.0 in c:\\users\\anaha\\appdata\\local\\programs\\python\\python312\\lib\\site-packages (from gradio) (3.1.4)\n",
      "Requirement already satisfied: markupsafe~=2.0 in c:\\users\\anaha\\appdata\\local\\programs\\python\\python312\\lib\\site-packages (from gradio) (2.1.5)\n",
      "Requirement already satisfied: numpy<3.0,>=1.0 in c:\\users\\anaha\\appdata\\local\\programs\\python\\python312\\lib\\site-packages (from gradio) (2.0.2)\n",
      "Requirement already satisfied: orjson~=3.0 in c:\\users\\anaha\\appdata\\local\\programs\\python\\python312\\lib\\site-packages (from gradio) (3.10.11)\n",
      "Requirement already satisfied: packaging in c:\\users\\anaha\\appdata\\local\\programs\\python\\python312\\lib\\site-packages (from gradio) (24.1)\n",
      "Requirement already satisfied: pandas<3.0,>=1.0 in c:\\users\\anaha\\appdata\\local\\programs\\python\\python312\\lib\\site-packages (from gradio) (2.2.3)\n",
      "Requirement already satisfied: pillow<12.0,>=8.0 in c:\\users\\anaha\\appdata\\local\\programs\\python\\python312\\lib\\site-packages (from gradio) (10.1.0)\n",
      "Requirement already satisfied: pydub in c:\\users\\anaha\\appdata\\local\\programs\\python\\python312\\lib\\site-packages (from gradio) (0.25.1)\n",
      "Requirement already satisfied: python-multipart==0.0.12 in c:\\users\\anaha\\appdata\\local\\programs\\python\\python312\\lib\\site-packages (from gradio) (0.0.12)\n",
      "Requirement already satisfied: pyyaml<7.0,>=5.0 in c:\\users\\anaha\\appdata\\local\\programs\\python\\python312\\lib\\site-packages (from gradio) (6.0.2)\n",
      "Requirement already satisfied: ruff>=0.2.2 in c:\\users\\anaha\\appdata\\local\\programs\\python\\python312\\lib\\site-packages (from gradio) (0.7.3)\n",
      "Requirement already satisfied: safehttpx<1.0,>=0.1.1 in c:\\users\\anaha\\appdata\\local\\programs\\python\\python312\\lib\\site-packages (from gradio) (0.1.1)\n",
      "Requirement already satisfied: semantic-version~=2.0 in c:\\users\\anaha\\appdata\\local\\programs\\python\\python312\\lib\\site-packages (from gradio) (2.10.0)\n",
      "Requirement already satisfied: starlette<1.0,>=0.40.0 in c:\\users\\anaha\\appdata\\local\\programs\\python\\python312\\lib\\site-packages (from gradio) (0.41.3)\n",
      "Requirement already satisfied: tomlkit==0.12.0 in c:\\users\\anaha\\appdata\\local\\programs\\python\\python312\\lib\\site-packages (from gradio) (0.12.0)\n",
      "Requirement already satisfied: typer<1.0,>=0.12 in c:\\users\\anaha\\appdata\\local\\programs\\python\\python312\\lib\\site-packages (from gradio) (0.13.0)\n",
      "Requirement already satisfied: uvicorn>=0.14.0 in c:\\users\\anaha\\appdata\\local\\programs\\python\\python312\\lib\\site-packages (from gradio) (0.24.0)\n",
      "Requirement already satisfied: fsspec in c:\\users\\anaha\\appdata\\local\\programs\\python\\python312\\lib\\site-packages (from gradio-client==1.5.0->gradio) (2024.10.0)\n",
      "Requirement already satisfied: websockets<13.0,>=10.0 in c:\\users\\anaha\\appdata\\local\\programs\\python\\python312\\lib\\site-packages (from gradio-client==1.5.0->gradio) (11.0.3)\n",
      "Requirement already satisfied: idna>=2.8 in c:\\users\\anaha\\appdata\\local\\programs\\python\\python312\\lib\\site-packages (from anyio<5,>=3.5.0->openai==1.12.0) (3.7)\n",
      "Requirement already satisfied: certifi in c:\\users\\anaha\\appdata\\local\\programs\\python\\python312\\lib\\site-packages (from httpx<1,>=0.23.0->openai==1.12.0) (2024.7.4)\n",
      "Requirement already satisfied: httpcore==1.* in c:\\users\\anaha\\appdata\\local\\programs\\python\\python312\\lib\\site-packages (from httpx<1,>=0.23.0->openai==1.12.0) (1.0.5)\n",
      "Requirement already satisfied: h11<0.15,>=0.13 in c:\\users\\anaha\\appdata\\local\\programs\\python\\python312\\lib\\site-packages (from httpcore==1.*->httpx<1,>=0.23.0->openai==1.12.0) (0.14.0)\n",
      "Requirement already satisfied: filelock in c:\\users\\anaha\\appdata\\local\\programs\\python\\python312\\lib\\site-packages (from huggingface-hub>=0.25.1->gradio) (3.16.1)\n",
      "Requirement already satisfied: requests in c:\\users\\anaha\\appdata\\local\\programs\\python\\python312\\lib\\site-packages (from huggingface-hub>=0.25.1->gradio) (2.31.0)\n",
      "Requirement already satisfied: python-dateutil>=2.8.2 in c:\\users\\anaha\\appdata\\local\\programs\\python\\python312\\lib\\site-packages (from pandas<3.0,>=1.0->gradio) (2.9.0.post0)\n",
      "Requirement already satisfied: pytz>=2020.1 in c:\\users\\anaha\\appdata\\local\\programs\\python\\python312\\lib\\site-packages (from pandas<3.0,>=1.0->gradio) (2024.2)\n",
      "Requirement already satisfied: tzdata>=2022.7 in c:\\users\\anaha\\appdata\\local\\programs\\python\\python312\\lib\\site-packages (from pandas<3.0,>=1.0->gradio) (2024.2)\n",
      "Requirement already satisfied: annotated-types>=0.4.0 in c:\\users\\anaha\\appdata\\local\\programs\\python\\python312\\lib\\site-packages (from pydantic<3,>=1.9.0->openai==1.12.0) (0.7.0)\n",
      "Requirement already satisfied: pydantic-core==2.14.5 in c:\\users\\anaha\\appdata\\local\\programs\\python\\python312\\lib\\site-packages (from pydantic<3,>=1.9.0->openai==1.12.0) (2.14.5)\n",
      "Requirement already satisfied: colorama in c:\\users\\anaha\\appdata\\local\\programs\\python\\python312\\lib\\site-packages (from tqdm>4->openai==1.12.0) (0.4.6)\n",
      "Requirement already satisfied: click>=8.0.0 in c:\\users\\anaha\\appdata\\local\\programs\\python\\python312\\lib\\site-packages (from typer<1.0,>=0.12->gradio) (8.1.7)\n",
      "Requirement already satisfied: shellingham>=1.3.0 in c:\\users\\anaha\\appdata\\local\\programs\\python\\python312\\lib\\site-packages (from typer<1.0,>=0.12->gradio) (1.5.4)\n",
      "Requirement already satisfied: rich>=10.11.0 in c:\\users\\anaha\\appdata\\local\\programs\\python\\python312\\lib\\site-packages (from typer<1.0,>=0.12->gradio) (13.9.4)\n",
      "Requirement already satisfied: six>=1.5 in c:\\users\\anaha\\appdata\\local\\programs\\python\\python312\\lib\\site-packages (from python-dateutil>=2.8.2->pandas<3.0,>=1.0->gradio) (1.16.0)\n",
      "Requirement already satisfied: markdown-it-py>=2.2.0 in c:\\users\\anaha\\appdata\\local\\programs\\python\\python312\\lib\\site-packages (from rich>=10.11.0->typer<1.0,>=0.12->gradio) (3.0.0)\n",
      "Requirement already satisfied: pygments<3.0.0,>=2.13.0 in c:\\users\\anaha\\appdata\\local\\programs\\python\\python312\\lib\\site-packages (from rich>=10.11.0->typer<1.0,>=0.12->gradio) (2.18.0)\n",
      "Requirement already satisfied: charset-normalizer<4,>=2 in c:\\users\\anaha\\appdata\\local\\programs\\python\\python312\\lib\\site-packages (from requests->huggingface-hub>=0.25.1->gradio) (3.3.2)\n",
      "Requirement already satisfied: urllib3<3,>=1.21.1 in c:\\users\\anaha\\appdata\\local\\programs\\python\\python312\\lib\\site-packages (from requests->huggingface-hub>=0.25.1->gradio) (2.2.2)\n",
      "Requirement already satisfied: mdurl~=0.1 in c:\\users\\anaha\\appdata\\local\\programs\\python\\python312\\lib\\site-packages (from markdown-it-py>=2.2.0->rich>=10.11.0->typer<1.0,>=0.12->gradio) (0.1.2)\n",
      "Note: you may need to restart the kernel to use updated packages.\n"
     ]
    }
   ],
   "source": [
    "pip install openai==1.12.0 gradio"
   ]
  },
  {
   "cell_type": "code",
   "execution_count": 30,
   "metadata": {},
   "outputs": [
    {
     "name": "stderr",
     "output_type": "stream",
     "text": [
      "c:\\Users\\anaha\\AppData\\Local\\Programs\\Python\\Python312\\Lib\\site-packages\\gradio\\components\\chatbot.py:237: UserWarning: You have not specified a value for the `type` parameter. Defaulting to the 'tuples' format for chatbot messages, but this is deprecated and will be removed in a future version of Gradio. Please set type='messages' instead, which uses openai-style dictionaries with 'role' and 'content' keys.\n",
      "  warnings.warn(\n"
     ]
    },
    {
     "name": "stdout",
     "output_type": "stream",
     "text": [
      "* Running on local URL:  http://127.0.0.1:7861\n",
      "\n",
      "Could not create share link. Please check your internet connection or our status page: https://status.gradio.app.\n"
     ]
    },
    {
     "data": {
      "text/html": [
       "<div><iframe src=\"http://127.0.0.1:7861/\" width=\"100%\" height=\"500\" allow=\"autoplay; camera; microphone; clipboard-read; clipboard-write;\" frameborder=\"0\" allowfullscreen></iframe></div>"
      ],
      "text/plain": [
       "<IPython.core.display.HTML object>"
      ]
     },
     "metadata": {},
     "output_type": "display_data"
    }
   ],
   "source": [
    "import gradio as gr\n",
    "from openai import OpenAI\n",
    "import logging\n",
    "import traceback\n",
    "\n",
    "# Configure logging\n",
    "logging.basicConfig(level=logging.DEBUG, format='%(asctime)s - %(levelname)s - %(message)s')\n",
    "\n",
    "# Initialize OpenAI client\n",
    "client = OpenAI(api_key=\"\")  # Replace with your actual API key\n",
    "\n",
    "class ChatHistory:\n",
    "    def __init__(self, max_history=10):\n",
    "        self.history = []\n",
    "        self.max_history = max_history\n",
    "    \n",
    "    def add_interaction(self, query, response):\n",
    "        self.history.append((query, response))\n",
    "        if len(self.history) > self.max_history:\n",
    "            self.history.pop(0)\n",
    "    \n",
    "    def get_history(self):\n",
    "        return self.history\n",
    "    \n",
    "    def clear_history(self):\n",
    "        self.history = []\n",
    "\n",
    "def generate_response(prompt, model=\"gpt-3.5-turbo\", temperature=0.7):\n",
    "    try:\n",
    "        messages = [\n",
    "            {\"role\": \"system\", \"content\": \"You are a helpful financial assistant. Provide clear and concise answers to financial questions.\"},\n",
    "            {\"role\": \"user\", \"content\": prompt}\n",
    "        ]\n",
    "        \n",
    "        response = client.chat.completions.create(\n",
    "            model=model,\n",
    "            messages=messages,\n",
    "            temperature=temperature,\n",
    "            max_tokens=150\n",
    "        )\n",
    "        return response.choices[0].message.content\n",
    "    except Exception as e:\n",
    "        logging.error(f\"Error generating response: {str(e)}\")\n",
    "        raise\n",
    "\n",
    "# Initialize chat history\n",
    "chat_history = ChatHistory()\n",
    "\n",
    "def build_gradio_interface():\n",
    "    with gr.Blocks() as demo:\n",
    "        gr.Markdown(\"# Financial Assistant\")\n",
    "        \n",
    "        with gr.Row():\n",
    "            with gr.Column(scale=2):\n",
    "                query = gr.Textbox(\n",
    "                    label=\"Your Question\",\n",
    "                    placeholder=\"Ask any financial question...\",\n",
    "                    lines=3\n",
    "                )\n",
    "                \n",
    "                submit_btn = gr.Button(\"Submit\", variant=\"primary\")\n",
    "                clear_btn = gr.Button(\"Clear\")\n",
    "\n",
    "            with gr.Column(scale=3):\n",
    "                chatbot = gr.Chatbot(label=\"Conversation\")\n",
    "                response_status = gr.Textbox(\n",
    "                    label=\"Status\",\n",
    "                    placeholder=\"Ready for your questions...\",\n",
    "                    interactive=False\n",
    "                )\n",
    "\n",
    "        def process_query(user_query):\n",
    "            try:\n",
    "                logging.debug(f\"Processing query: {user_query}\")\n",
    "                \n",
    "                # Generate response\n",
    "                response = generate_response(user_query)\n",
    "                \n",
    "                # Update chat history\n",
    "                chat_history.add_interaction(user_query, response)\n",
    "                return chat_history.get_history(), \"Response generated successfully\"\n",
    "\n",
    "            except Exception as e:\n",
    "                error_message = f\"An error occurred: {str(e)}\\n{traceback.format_exc()}\"\n",
    "                logging.error(error_message)\n",
    "                return [[user_query, \"I apologize, but I encountered an error processing your request. Please try again.\"]], error_message\n",
    "\n",
    "        def clear_outputs():\n",
    "            chat_history.clear_history()\n",
    "            return None, \"Ready for your questions...\"\n",
    "\n",
    "        submit_btn.click(\n",
    "            process_query,\n",
    "            inputs=[query],\n",
    "            outputs=[chatbot, response_status]\n",
    "        )\n",
    "        \n",
    "        clear_btn.click(\n",
    "            clear_outputs,\n",
    "            outputs=[chatbot, response_status]\n",
    "        )\n",
    "\n",
    "    demo.launch(share=True)\n",
    "\n",
    "# Main execution\n",
    "if __name__ == \"__main__\":\n",
    "    build_gradio_interface()"
   ]
  },
  {
   "cell_type": "code",
   "execution_count": 31,
   "metadata": {},
   "outputs": [
    {
     "name": "stdout",
     "output_type": "stream",
     "text": [
      "Requirement already satisfied: openai==1.12.0 in c:\\users\\anaha\\appdata\\local\\programs\\python\\python312\\lib\\site-packages (1.12.0)\n",
      "Requirement already satisfied: gradio in c:\\users\\anaha\\appdata\\local\\programs\\python\\python312\\lib\\site-packages (5.7.1)\n",
      "Requirement already satisfied: PyMuPDF in c:\\users\\anaha\\appdata\\local\\programs\\python\\python312\\lib\\site-packages (1.24.14)\n",
      "Requirement already satisfied: nltk in c:\\users\\anaha\\appdata\\local\\programs\\python\\python312\\lib\\site-packages (3.9.1)\n",
      "Requirement already satisfied: anyio<5,>=3.5.0 in c:\\users\\anaha\\appdata\\local\\programs\\python\\python312\\lib\\site-packages (from openai==1.12.0) (3.7.1)\n",
      "Requirement already satisfied: distro<2,>=1.7.0 in c:\\users\\anaha\\appdata\\local\\programs\\python\\python312\\lib\\site-packages (from openai==1.12.0) (1.9.0)\n",
      "Requirement already satisfied: httpx<1,>=0.23.0 in c:\\users\\anaha\\appdata\\local\\programs\\python\\python312\\lib\\site-packages (from openai==1.12.0) (0.27.0)\n",
      "Requirement already satisfied: pydantic<3,>=1.9.0 in c:\\users\\anaha\\appdata\\local\\programs\\python\\python312\\lib\\site-packages (from openai==1.12.0) (2.5.2)\n",
      "Requirement already satisfied: sniffio in c:\\users\\anaha\\appdata\\local\\programs\\python\\python312\\lib\\site-packages (from openai==1.12.0) (1.3.1)\n",
      "Requirement already satisfied: tqdm>4 in c:\\users\\anaha\\appdata\\local\\programs\\python\\python312\\lib\\site-packages (from openai==1.12.0) (4.67.0)\n",
      "Requirement already satisfied: typing-extensions<5,>=4.7 in c:\\users\\anaha\\appdata\\local\\programs\\python\\python312\\lib\\site-packages (from openai==1.12.0) (4.12.2)\n",
      "Requirement already satisfied: aiofiles<24.0,>=22.0 in c:\\users\\anaha\\appdata\\local\\programs\\python\\python312\\lib\\site-packages (from gradio) (23.2.1)\n",
      "Requirement already satisfied: fastapi<1.0,>=0.115.2 in c:\\users\\anaha\\appdata\\local\\programs\\python\\python312\\lib\\site-packages (from gradio) (0.115.5)\n",
      "Requirement already satisfied: ffmpy in c:\\users\\anaha\\appdata\\local\\programs\\python\\python312\\lib\\site-packages (from gradio) (0.4.0)\n",
      "Requirement already satisfied: gradio-client==1.5.0 in c:\\users\\anaha\\appdata\\local\\programs\\python\\python312\\lib\\site-packages (from gradio) (1.5.0)\n",
      "Requirement already satisfied: huggingface-hub>=0.25.1 in c:\\users\\anaha\\appdata\\local\\programs\\python\\python312\\lib\\site-packages (from gradio) (0.26.3)\n",
      "Requirement already satisfied: jinja2<4.0 in c:\\users\\anaha\\appdata\\local\\programs\\python\\python312\\lib\\site-packages (from gradio) (3.1.4)\n",
      "Requirement already satisfied: markupsafe~=2.0 in c:\\users\\anaha\\appdata\\local\\programs\\python\\python312\\lib\\site-packages (from gradio) (2.1.5)\n",
      "Requirement already satisfied: numpy<3.0,>=1.0 in c:\\users\\anaha\\appdata\\local\\programs\\python\\python312\\lib\\site-packages (from gradio) (2.0.2)\n",
      "Requirement already satisfied: orjson~=3.0 in c:\\users\\anaha\\appdata\\local\\programs\\python\\python312\\lib\\site-packages (from gradio) (3.10.11)\n",
      "Requirement already satisfied: packaging in c:\\users\\anaha\\appdata\\local\\programs\\python\\python312\\lib\\site-packages (from gradio) (24.1)\n",
      "Requirement already satisfied: pandas<3.0,>=1.0 in c:\\users\\anaha\\appdata\\local\\programs\\python\\python312\\lib\\site-packages (from gradio) (2.2.3)\n",
      "Requirement already satisfied: pillow<12.0,>=8.0 in c:\\users\\anaha\\appdata\\local\\programs\\python\\python312\\lib\\site-packages (from gradio) (10.1.0)\n",
      "Requirement already satisfied: pydub in c:\\users\\anaha\\appdata\\local\\programs\\python\\python312\\lib\\site-packages (from gradio) (0.25.1)\n",
      "Requirement already satisfied: python-multipart==0.0.12 in c:\\users\\anaha\\appdata\\local\\programs\\python\\python312\\lib\\site-packages (from gradio) (0.0.12)\n",
      "Requirement already satisfied: pyyaml<7.0,>=5.0 in c:\\users\\anaha\\appdata\\local\\programs\\python\\python312\\lib\\site-packages (from gradio) (6.0.2)\n",
      "Requirement already satisfied: ruff>=0.2.2 in c:\\users\\anaha\\appdata\\local\\programs\\python\\python312\\lib\\site-packages (from gradio) (0.7.3)\n",
      "Requirement already satisfied: safehttpx<1.0,>=0.1.1 in c:\\users\\anaha\\appdata\\local\\programs\\python\\python312\\lib\\site-packages (from gradio) (0.1.1)\n",
      "Requirement already satisfied: semantic-version~=2.0 in c:\\users\\anaha\\appdata\\local\\programs\\python\\python312\\lib\\site-packages (from gradio) (2.10.0)\n",
      "Requirement already satisfied: starlette<1.0,>=0.40.0 in c:\\users\\anaha\\appdata\\local\\programs\\python\\python312\\lib\\site-packages (from gradio) (0.41.3)\n",
      "Requirement already satisfied: tomlkit==0.12.0 in c:\\users\\anaha\\appdata\\local\\programs\\python\\python312\\lib\\site-packages (from gradio) (0.12.0)\n",
      "Requirement already satisfied: typer<1.0,>=0.12 in c:\\users\\anaha\\appdata\\local\\programs\\python\\python312\\lib\\site-packages (from gradio) (0.13.0)\n",
      "Requirement already satisfied: uvicorn>=0.14.0 in c:\\users\\anaha\\appdata\\local\\programs\\python\\python312\\lib\\site-packages (from gradio) (0.24.0)\n",
      "Requirement already satisfied: fsspec in c:\\users\\anaha\\appdata\\local\\programs\\python\\python312\\lib\\site-packages (from gradio-client==1.5.0->gradio) (2024.10.0)\n",
      "Requirement already satisfied: websockets<13.0,>=10.0 in c:\\users\\anaha\\appdata\\local\\programs\\python\\python312\\lib\\site-packages (from gradio-client==1.5.0->gradio) (11.0.3)\n",
      "Requirement already satisfied: click in c:\\users\\anaha\\appdata\\local\\programs\\python\\python312\\lib\\site-packages (from nltk) (8.1.7)\n",
      "Requirement already satisfied: joblib in c:\\users\\anaha\\appdata\\local\\programs\\python\\python312\\lib\\site-packages (from nltk) (1.4.2)\n",
      "Requirement already satisfied: regex>=2021.8.3 in c:\\users\\anaha\\appdata\\local\\programs\\python\\python312\\lib\\site-packages (from nltk) (2024.11.6)\n",
      "Requirement already satisfied: idna>=2.8 in c:\\users\\anaha\\appdata\\local\\programs\\python\\python312\\lib\\site-packages (from anyio<5,>=3.5.0->openai==1.12.0) (3.7)\n",
      "Requirement already satisfied: certifi in c:\\users\\anaha\\appdata\\local\\programs\\python\\python312\\lib\\site-packages (from httpx<1,>=0.23.0->openai==1.12.0) (2024.7.4)\n",
      "Requirement already satisfied: httpcore==1.* in c:\\users\\anaha\\appdata\\local\\programs\\python\\python312\\lib\\site-packages (from httpx<1,>=0.23.0->openai==1.12.0) (1.0.5)\n",
      "Requirement already satisfied: h11<0.15,>=0.13 in c:\\users\\anaha\\appdata\\local\\programs\\python\\python312\\lib\\site-packages (from httpcore==1.*->httpx<1,>=0.23.0->openai==1.12.0) (0.14.0)\n",
      "Requirement already satisfied: filelock in c:\\users\\anaha\\appdata\\local\\programs\\python\\python312\\lib\\site-packages (from huggingface-hub>=0.25.1->gradio) (3.16.1)\n",
      "Requirement already satisfied: requests in c:\\users\\anaha\\appdata\\local\\programs\\python\\python312\\lib\\site-packages (from huggingface-hub>=0.25.1->gradio) (2.31.0)\n",
      "Requirement already satisfied: python-dateutil>=2.8.2 in c:\\users\\anaha\\appdata\\local\\programs\\python\\python312\\lib\\site-packages (from pandas<3.0,>=1.0->gradio) (2.9.0.post0)\n",
      "Requirement already satisfied: pytz>=2020.1 in c:\\users\\anaha\\appdata\\local\\programs\\python\\python312\\lib\\site-packages (from pandas<3.0,>=1.0->gradio) (2024.2)\n",
      "Requirement already satisfied: tzdata>=2022.7 in c:\\users\\anaha\\appdata\\local\\programs\\python\\python312\\lib\\site-packages (from pandas<3.0,>=1.0->gradio) (2024.2)\n",
      "Requirement already satisfied: annotated-types>=0.4.0 in c:\\users\\anaha\\appdata\\local\\programs\\python\\python312\\lib\\site-packages (from pydantic<3,>=1.9.0->openai==1.12.0) (0.7.0)\n",
      "Requirement already satisfied: pydantic-core==2.14.5 in c:\\users\\anaha\\appdata\\local\\programs\\python\\python312\\lib\\site-packages (from pydantic<3,>=1.9.0->openai==1.12.0) (2.14.5)\n",
      "Requirement already satisfied: colorama in c:\\users\\anaha\\appdata\\local\\programs\\python\\python312\\lib\\site-packages (from tqdm>4->openai==1.12.0) (0.4.6)\n",
      "Requirement already satisfied: shellingham>=1.3.0 in c:\\users\\anaha\\appdata\\local\\programs\\python\\python312\\lib\\site-packages (from typer<1.0,>=0.12->gradio) (1.5.4)\n",
      "Requirement already satisfied: rich>=10.11.0 in c:\\users\\anaha\\appdata\\local\\programs\\python\\python312\\lib\\site-packages (from typer<1.0,>=0.12->gradio) (13.9.4)\n",
      "Requirement already satisfied: six>=1.5 in c:\\users\\anaha\\appdata\\local\\programs\\python\\python312\\lib\\site-packages (from python-dateutil>=2.8.2->pandas<3.0,>=1.0->gradio) (1.16.0)\n",
      "Requirement already satisfied: markdown-it-py>=2.2.0 in c:\\users\\anaha\\appdata\\local\\programs\\python\\python312\\lib\\site-packages (from rich>=10.11.0->typer<1.0,>=0.12->gradio) (3.0.0)\n",
      "Requirement already satisfied: pygments<3.0.0,>=2.13.0 in c:\\users\\anaha\\appdata\\local\\programs\\python\\python312\\lib\\site-packages (from rich>=10.11.0->typer<1.0,>=0.12->gradio) (2.18.0)\n",
      "Requirement already satisfied: charset-normalizer<4,>=2 in c:\\users\\anaha\\appdata\\local\\programs\\python\\python312\\lib\\site-packages (from requests->huggingface-hub>=0.25.1->gradio) (3.3.2)\n",
      "Requirement already satisfied: urllib3<3,>=1.21.1 in c:\\users\\anaha\\appdata\\local\\programs\\python\\python312\\lib\\site-packages (from requests->huggingface-hub>=0.25.1->gradio) (2.2.2)\n",
      "Requirement already satisfied: mdurl~=0.1 in c:\\users\\anaha\\appdata\\local\\programs\\python\\python312\\lib\\site-packages (from markdown-it-py>=2.2.0->rich>=10.11.0->typer<1.0,>=0.12->gradio) (0.1.2)\n",
      "Note: you may need to restart the kernel to use updated packages.\n"
     ]
    }
   ],
   "source": [
    "pip install openai==1.12.0 gradio PyMuPDF nltk"
   ]
  },
  {
   "cell_type": "code",
   "execution_count": 32,
   "metadata": {},
   "outputs": [],
   "source": [
    "# Instead of the GUI downloader, directly download only the required package\n",
    "import nltk\n",
    "import ssl\n",
    "\n",
    "try:\n",
    "    _create_unverified_https_context = ssl._create_unverified_context\n",
    "except AttributeError:\n",
    "    pass\n",
    "else:\n",
    "    ssl._create_default_https_context = _create_unverified_https_context\n",
    "\n",
    "# Download only the punkt package\n",
    "try:\n",
    "    nltk.data.find('tokenizers/punkt')\n",
    "except LookupError:\n",
    "    nltk.download('punkt', quiet=True)"
   ]
  },
  {
   "cell_type": "markdown",
   "metadata": {},
   "source": [
    "WITH IMAGE AND WEBSITE"
   ]
  },
  {
   "cell_type": "code",
   "execution_count": 33,
   "metadata": {},
   "outputs": [
    {
     "name": "stdout",
     "output_type": "stream",
     "text": [
      "Requirement already satisfied: Pillow in c:\\users\\anaha\\appdata\\local\\programs\\python\\python312\\lib\\site-packages (10.1.0)\n",
      "Requirement already satisfied: pytesseract in c:\\users\\anaha\\appdata\\local\\programs\\python\\python312\\lib\\site-packages (0.3.10)\n",
      "Requirement already satisfied: beautifulsoup4 in c:\\users\\anaha\\appdata\\local\\programs\\python\\python312\\lib\\site-packages (4.12.3)\n",
      "Requirement already satisfied: validators in c:\\users\\anaha\\appdata\\local\\programs\\python\\python312\\lib\\site-packages (0.34.0)\n",
      "Requirement already satisfied: packaging>=21.3 in c:\\users\\anaha\\appdata\\local\\programs\\python\\python312\\lib\\site-packages (from pytesseract) (24.1)\n",
      "Requirement already satisfied: soupsieve>1.2 in c:\\users\\anaha\\appdata\\local\\programs\\python\\python312\\lib\\site-packages (from beautifulsoup4) (2.6)\n",
      "Note: you may need to restart the kernel to use updated packages.\n"
     ]
    }
   ],
   "source": [
    "pip install Pillow pytesseract beautifulsoup4 validators"
   ]
  },
  {
   "cell_type": "code",
   "execution_count": 34,
   "metadata": {},
   "outputs": [
    {
     "name": "stdout",
     "output_type": "stream",
     "text": [
      "Requirement already satisfied: openai==1.12.0 in c:\\users\\anaha\\appdata\\local\\programs\\python\\python312\\lib\\site-packages (1.12.0)\n",
      "Requirement already satisfied: gradio in c:\\users\\anaha\\appdata\\local\\programs\\python\\python312\\lib\\site-packages (5.7.1)\n",
      "Requirement already satisfied: PyMuPDF in c:\\users\\anaha\\appdata\\local\\programs\\python\\python312\\lib\\site-packages (1.24.14)\n",
      "Requirement already satisfied: nltk in c:\\users\\anaha\\appdata\\local\\programs\\python\\python312\\lib\\site-packages (3.9.1)\n",
      "Requirement already satisfied: Pillow in c:\\users\\anaha\\appdata\\local\\programs\\python\\python312\\lib\\site-packages (10.1.0)\n",
      "Requirement already satisfied: pytesseract in c:\\users\\anaha\\appdata\\local\\programs\\python\\python312\\lib\\site-packages (0.3.10)\n",
      "Requirement already satisfied: beautifulsoup4 in c:\\users\\anaha\\appdata\\local\\programs\\python\\python312\\lib\\site-packages (4.12.3)\n",
      "Requirement already satisfied: validators in c:\\users\\anaha\\appdata\\local\\programs\\python\\python312\\lib\\site-packages (0.34.0)\n",
      "Requirement already satisfied: anyio<5,>=3.5.0 in c:\\users\\anaha\\appdata\\local\\programs\\python\\python312\\lib\\site-packages (from openai==1.12.0) (3.7.1)\n",
      "Requirement already satisfied: distro<2,>=1.7.0 in c:\\users\\anaha\\appdata\\local\\programs\\python\\python312\\lib\\site-packages (from openai==1.12.0) (1.9.0)\n",
      "Requirement already satisfied: httpx<1,>=0.23.0 in c:\\users\\anaha\\appdata\\local\\programs\\python\\python312\\lib\\site-packages (from openai==1.12.0) (0.27.0)\n",
      "Requirement already satisfied: pydantic<3,>=1.9.0 in c:\\users\\anaha\\appdata\\local\\programs\\python\\python312\\lib\\site-packages (from openai==1.12.0) (2.5.2)\n",
      "Requirement already satisfied: sniffio in c:\\users\\anaha\\appdata\\local\\programs\\python\\python312\\lib\\site-packages (from openai==1.12.0) (1.3.1)\n",
      "Requirement already satisfied: tqdm>4 in c:\\users\\anaha\\appdata\\local\\programs\\python\\python312\\lib\\site-packages (from openai==1.12.0) (4.67.0)\n",
      "Requirement already satisfied: typing-extensions<5,>=4.7 in c:\\users\\anaha\\appdata\\local\\programs\\python\\python312\\lib\\site-packages (from openai==1.12.0) (4.12.2)\n",
      "Requirement already satisfied: aiofiles<24.0,>=22.0 in c:\\users\\anaha\\appdata\\local\\programs\\python\\python312\\lib\\site-packages (from gradio) (23.2.1)\n",
      "Requirement already satisfied: fastapi<1.0,>=0.115.2 in c:\\users\\anaha\\appdata\\local\\programs\\python\\python312\\lib\\site-packages (from gradio) (0.115.5)\n",
      "Requirement already satisfied: ffmpy in c:\\users\\anaha\\appdata\\local\\programs\\python\\python312\\lib\\site-packages (from gradio) (0.4.0)\n",
      "Requirement already satisfied: gradio-client==1.5.0 in c:\\users\\anaha\\appdata\\local\\programs\\python\\python312\\lib\\site-packages (from gradio) (1.5.0)\n",
      "Requirement already satisfied: huggingface-hub>=0.25.1 in c:\\users\\anaha\\appdata\\local\\programs\\python\\python312\\lib\\site-packages (from gradio) (0.26.3)\n",
      "Requirement already satisfied: jinja2<4.0 in c:\\users\\anaha\\appdata\\local\\programs\\python\\python312\\lib\\site-packages (from gradio) (3.1.4)\n",
      "Requirement already satisfied: markupsafe~=2.0 in c:\\users\\anaha\\appdata\\local\\programs\\python\\python312\\lib\\site-packages (from gradio) (2.1.5)\n",
      "Requirement already satisfied: numpy<3.0,>=1.0 in c:\\users\\anaha\\appdata\\local\\programs\\python\\python312\\lib\\site-packages (from gradio) (2.0.2)\n",
      "Requirement already satisfied: orjson~=3.0 in c:\\users\\anaha\\appdata\\local\\programs\\python\\python312\\lib\\site-packages (from gradio) (3.10.11)\n",
      "Requirement already satisfied: packaging in c:\\users\\anaha\\appdata\\local\\programs\\python\\python312\\lib\\site-packages (from gradio) (24.1)\n",
      "Requirement already satisfied: pandas<3.0,>=1.0 in c:\\users\\anaha\\appdata\\local\\programs\\python\\python312\\lib\\site-packages (from gradio) (2.2.3)\n",
      "Requirement already satisfied: pydub in c:\\users\\anaha\\appdata\\local\\programs\\python\\python312\\lib\\site-packages (from gradio) (0.25.1)\n",
      "Requirement already satisfied: python-multipart==0.0.12 in c:\\users\\anaha\\appdata\\local\\programs\\python\\python312\\lib\\site-packages (from gradio) (0.0.12)\n",
      "Requirement already satisfied: pyyaml<7.0,>=5.0 in c:\\users\\anaha\\appdata\\local\\programs\\python\\python312\\lib\\site-packages (from gradio) (6.0.2)\n",
      "Requirement already satisfied: ruff>=0.2.2 in c:\\users\\anaha\\appdata\\local\\programs\\python\\python312\\lib\\site-packages (from gradio) (0.7.3)\n",
      "Requirement already satisfied: safehttpx<1.0,>=0.1.1 in c:\\users\\anaha\\appdata\\local\\programs\\python\\python312\\lib\\site-packages (from gradio) (0.1.1)\n",
      "Requirement already satisfied: semantic-version~=2.0 in c:\\users\\anaha\\appdata\\local\\programs\\python\\python312\\lib\\site-packages (from gradio) (2.10.0)\n",
      "Requirement already satisfied: starlette<1.0,>=0.40.0 in c:\\users\\anaha\\appdata\\local\\programs\\python\\python312\\lib\\site-packages (from gradio) (0.41.3)\n",
      "Requirement already satisfied: tomlkit==0.12.0 in c:\\users\\anaha\\appdata\\local\\programs\\python\\python312\\lib\\site-packages (from gradio) (0.12.0)\n",
      "Requirement already satisfied: typer<1.0,>=0.12 in c:\\users\\anaha\\appdata\\local\\programs\\python\\python312\\lib\\site-packages (from gradio) (0.13.0)\n",
      "Requirement already satisfied: uvicorn>=0.14.0 in c:\\users\\anaha\\appdata\\local\\programs\\python\\python312\\lib\\site-packages (from gradio) (0.24.0)\n",
      "Requirement already satisfied: fsspec in c:\\users\\anaha\\appdata\\local\\programs\\python\\python312\\lib\\site-packages (from gradio-client==1.5.0->gradio) (2024.10.0)\n",
      "Requirement already satisfied: websockets<13.0,>=10.0 in c:\\users\\anaha\\appdata\\local\\programs\\python\\python312\\lib\\site-packages (from gradio-client==1.5.0->gradio) (11.0.3)\n",
      "Requirement already satisfied: click in c:\\users\\anaha\\appdata\\local\\programs\\python\\python312\\lib\\site-packages (from nltk) (8.1.7)\n",
      "Requirement already satisfied: joblib in c:\\users\\anaha\\appdata\\local\\programs\\python\\python312\\lib\\site-packages (from nltk) (1.4.2)\n",
      "Requirement already satisfied: regex>=2021.8.3 in c:\\users\\anaha\\appdata\\local\\programs\\python\\python312\\lib\\site-packages (from nltk) (2024.11.6)\n",
      "Requirement already satisfied: soupsieve>1.2 in c:\\users\\anaha\\appdata\\local\\programs\\python\\python312\\lib\\site-packages (from beautifulsoup4) (2.6)\n",
      "Requirement already satisfied: idna>=2.8 in c:\\users\\anaha\\appdata\\local\\programs\\python\\python312\\lib\\site-packages (from anyio<5,>=3.5.0->openai==1.12.0) (3.7)\n",
      "Requirement already satisfied: certifi in c:\\users\\anaha\\appdata\\local\\programs\\python\\python312\\lib\\site-packages (from httpx<1,>=0.23.0->openai==1.12.0) (2024.7.4)\n",
      "Requirement already satisfied: httpcore==1.* in c:\\users\\anaha\\appdata\\local\\programs\\python\\python312\\lib\\site-packages (from httpx<1,>=0.23.0->openai==1.12.0) (1.0.5)\n",
      "Requirement already satisfied: h11<0.15,>=0.13 in c:\\users\\anaha\\appdata\\local\\programs\\python\\python312\\lib\\site-packages (from httpcore==1.*->httpx<1,>=0.23.0->openai==1.12.0) (0.14.0)\n",
      "Requirement already satisfied: filelock in c:\\users\\anaha\\appdata\\local\\programs\\python\\python312\\lib\\site-packages (from huggingface-hub>=0.25.1->gradio) (3.16.1)\n",
      "Requirement already satisfied: requests in c:\\users\\anaha\\appdata\\local\\programs\\python\\python312\\lib\\site-packages (from huggingface-hub>=0.25.1->gradio) (2.31.0)\n",
      "Requirement already satisfied: python-dateutil>=2.8.2 in c:\\users\\anaha\\appdata\\local\\programs\\python\\python312\\lib\\site-packages (from pandas<3.0,>=1.0->gradio) (2.9.0.post0)\n",
      "Requirement already satisfied: pytz>=2020.1 in c:\\users\\anaha\\appdata\\local\\programs\\python\\python312\\lib\\site-packages (from pandas<3.0,>=1.0->gradio) (2024.2)\n",
      "Requirement already satisfied: tzdata>=2022.7 in c:\\users\\anaha\\appdata\\local\\programs\\python\\python312\\lib\\site-packages (from pandas<3.0,>=1.0->gradio) (2024.2)\n",
      "Requirement already satisfied: annotated-types>=0.4.0 in c:\\users\\anaha\\appdata\\local\\programs\\python\\python312\\lib\\site-packages (from pydantic<3,>=1.9.0->openai==1.12.0) (0.7.0)\n",
      "Requirement already satisfied: pydantic-core==2.14.5 in c:\\users\\anaha\\appdata\\local\\programs\\python\\python312\\lib\\site-packages (from pydantic<3,>=1.9.0->openai==1.12.0) (2.14.5)\n",
      "Requirement already satisfied: colorama in c:\\users\\anaha\\appdata\\local\\programs\\python\\python312\\lib\\site-packages (from tqdm>4->openai==1.12.0) (0.4.6)\n",
      "Requirement already satisfied: shellingham>=1.3.0 in c:\\users\\anaha\\appdata\\local\\programs\\python\\python312\\lib\\site-packages (from typer<1.0,>=0.12->gradio) (1.5.4)\n",
      "Requirement already satisfied: rich>=10.11.0 in c:\\users\\anaha\\appdata\\local\\programs\\python\\python312\\lib\\site-packages (from typer<1.0,>=0.12->gradio) (13.9.4)\n",
      "Requirement already satisfied: six>=1.5 in c:\\users\\anaha\\appdata\\local\\programs\\python\\python312\\lib\\site-packages (from python-dateutil>=2.8.2->pandas<3.0,>=1.0->gradio) (1.16.0)\n",
      "Requirement already satisfied: markdown-it-py>=2.2.0 in c:\\users\\anaha\\appdata\\local\\programs\\python\\python312\\lib\\site-packages (from rich>=10.11.0->typer<1.0,>=0.12->gradio) (3.0.0)\n",
      "Requirement already satisfied: pygments<3.0.0,>=2.13.0 in c:\\users\\anaha\\appdata\\local\\programs\\python\\python312\\lib\\site-packages (from rich>=10.11.0->typer<1.0,>=0.12->gradio) (2.18.0)\n",
      "Requirement already satisfied: charset-normalizer<4,>=2 in c:\\users\\anaha\\appdata\\local\\programs\\python\\python312\\lib\\site-packages (from requests->huggingface-hub>=0.25.1->gradio) (3.3.2)\n",
      "Requirement already satisfied: urllib3<3,>=1.21.1 in c:\\users\\anaha\\appdata\\local\\programs\\python\\python312\\lib\\site-packages (from requests->huggingface-hub>=0.25.1->gradio) (2.2.2)\n",
      "Requirement already satisfied: mdurl~=0.1 in c:\\users\\anaha\\appdata\\local\\programs\\python\\python312\\lib\\site-packages (from markdown-it-py>=2.2.0->rich>=10.11.0->typer<1.0,>=0.12->gradio) (0.1.2)\n",
      "Note: you may need to restart the kernel to use updated packages.\n"
     ]
    }
   ],
   "source": [
    "pip install openai==1.12.0 gradio PyMuPDF nltk Pillow pytesseract beautifulsoup4 validators"
   ]
  },
  {
   "cell_type": "markdown",
   "metadata": {},
   "source": [
    "PDF - TEXT - URL --> INPUT "
   ]
  },
  {
   "cell_type": "markdown",
   "metadata": {},
   "source": [
    "qpen ADA"
   ]
  },
  {
   "cell_type": "code",
   "execution_count": null,
   "metadata": {},
   "outputs": [
    {
     "name": "stderr",
     "output_type": "stream",
     "text": [
      "c:\\Users\\anaha\\AppData\\Local\\Programs\\Python\\Python312\\Lib\\site-packages\\gradio\\components\\chatbot.py:237: UserWarning: You have not specified a value for the `type` parameter. Defaulting to the 'tuples' format for chatbot messages, but this is deprecated and will be removed in a future version of Gradio. Please set type='messages' instead, which uses openai-style dictionaries with 'role' and 'content' keys.\n",
      "  warnings.warn(\n"
     ]
    },
    {
     "name": "stdout",
     "output_type": "stream",
     "text": [
      "* Running on local URL:  http://127.0.0.1:7862\n",
      "\n",
      "Could not create share link. Please check your internet connection or our status page: https://status.gradio.app.\n"
     ]
    },
    {
     "data": {
      "text/html": [
       "<div><iframe src=\"http://127.0.0.1:7862/\" width=\"100%\" height=\"500\" allow=\"autoplay; camera; microphone; clipboard-read; clipboard-write;\" frameborder=\"0\" allowfullscreen></iframe></div>"
      ],
      "text/plain": [
       "<IPython.core.display.HTML object>"
      ]
     },
     "metadata": {},
     "output_type": "display_data"
    }
   ],
   "source": [
    "import gradio as gr \n",
    "from openai import OpenAI\n",
    "import logging\n",
    "import traceback\n",
    "import fitz  # PyMuPDF\n",
    "import re\n",
    "import nltk\n",
    "import ssl\n",
    "from nltk.tokenize import sent_tokenize\n",
    "import requests\n",
    "from bs4 import BeautifulSoup\n",
    "import validators\n",
    "import chromadb\n",
    "from chromadb.config import Settings\n",
    "\n",
    "# SSL Configuration for NLTK downloads\n",
    "try:\n",
    "    _create_unverified_https_context = ssl._create_unverified_context\n",
    "except AttributeError:\n",
    "    pass\n",
    "else:\n",
    "    ssl._create_default_https_context = _create_unverified_https_context\n",
    "\n",
    "# Download required NLTK data\n",
    "try:\n",
    "    nltk.data.find('tokenizers/punkt')\n",
    "except LookupError:\n",
    "    nltk.download('punkt')\n",
    "\n",
    "# Configure logging\n",
    "logging.basicConfig(level=logging.DEBUG, format='%(asctime)s - %(levelname)s - %(message)s')\n",
    "\n",
    "# Initialize OpenAI client\n",
    "client = OpenAI(api_key=\"\")  # Replace with your actual API key\n",
    "\n",
    "# Singleton pattern for ChromaDB client\n",
    "chroma_client = None\n",
    "collection = None\n",
    "\n",
    "def get_chroma_client():\n",
    "    global chroma_client, collection\n",
    "    if chroma_client is None:\n",
    "        try:\n",
    "            chroma_client = chromadb.Client(\n",
    "                Settings(\n",
    "                    chroma_db_impl=\"duckdb+parquet\",\n",
    "                    persist_directory=\"./chroma_db\"  # Path to store vectors\n",
    "                )\n",
    "            )\n",
    "            collection = chroma_client.get_or_create_collection(name=\"financial_data\")\n",
    "        except Exception as e:\n",
    "            logging.error(f\"Error initializing ChromaDB: {str(e)}\")\n",
    "            raise  # Raise the error to stop execution if ChromaDB fails to initialize\n",
    "    return chroma_client, collection\n",
    "\n",
    "class ChatHistory:\n",
    "    def __init__(self, max_history=10):\n",
    "        self.history = []\n",
    "        self.max_history = max_history\n",
    "        self.current_context = \"\"\n",
    "    \n",
    "    def add_interaction(self, query, response):\n",
    "        self.history.append((query, response))\n",
    "        if len(self.history) > self.max_history:\n",
    "            self.history.pop(0)\n",
    "    \n",
    "    def get_history(self):\n",
    "        return self.history\n",
    "    \n",
    "    def clear_history(self):\n",
    "        self.history = []\n",
    "        self.current_context = \"\"\n",
    "    \n",
    "    def set_context(self, context):\n",
    "        self.current_context = context\n",
    "\n",
    "def clean_text(text):\n",
    "    \"\"\"Clean and normalize text\"\"\"\n",
    "    if not text:\n",
    "        return \"\"\n",
    "    text = re.sub(r'\\s+', ' ', text)\n",
    "    text = re.sub(r'[^\\x00-\\x7F]+', '', text)\n",
    "    return text.strip()\n",
    "\n",
    "def chunk_text(text, chunk_size=1000):\n",
    "    \"\"\"Split text into chunks\"\"\"\n",
    "    if not text:\n",
    "        return []\n",
    "    try:\n",
    "        sentences = sent_tokenize(text)\n",
    "        chunks = []\n",
    "        current_chunk = []\n",
    "        current_length = 0\n",
    "        \n",
    "        for sentence in sentences:\n",
    "            current_length += len(sentence)\n",
    "            current_chunk.append(sentence)\n",
    "            \n",
    "            if current_length >= chunk_size:\n",
    "                chunks.append(\" \".join(current_chunk))\n",
    "                current_chunk = []\n",
    "                current_length = 0\n",
    "                \n",
    "        if current_chunk:\n",
    "            chunks.append(\" \".join(current_chunk))\n",
    "            \n",
    "        return chunks\n",
    "    except Exception as e:\n",
    "        logging.error(f\"Error in chunk_text: {str(e)}\")\n",
    "        words = text.split()\n",
    "        return [' '.join(words[i:i + chunk_size]) for i in range(0, len(words), chunk_size)]\n",
    "\n",
    "def extract_text_from_pdf(file_path):\n",
    "    \"\"\"Extract text from PDF file\"\"\"\n",
    "    if not file_path:\n",
    "        return \"\"\n",
    "    try:\n",
    "        doc = fitz.open(file_path)\n",
    "        text = \"\"\n",
    "        for page_num in range(doc.page_count):\n",
    "            page = doc.load_page(page_num)\n",
    "            text += page.get_text()\n",
    "        doc.close()\n",
    "        return clean_text(text)\n",
    "    except Exception as e:\n",
    "        logging.error(f\"Error processing PDF: {str(e)}\")\n",
    "        return \"\"\n",
    "\n",
    "def extract_text_from_url(url):\n",
    "    \"\"\"Extract text from website URL\"\"\"\n",
    "    if not url or not url.strip():\n",
    "        return \"\"\n",
    "    try:\n",
    "        # Validate URL\n",
    "        if not validators.url(url):\n",
    "            raise ValueError(\"Invalid URL format\")\n",
    "        \n",
    "        # Add headers to mimic a browser request\n",
    "        headers = {\n",
    "            'User-Agent': 'Mozilla/5.0 (Windows NT 10.0; Win64; x64) AppleWebKit/537.36 (KHTML, like Gecko) Chrome/91.0.4472.124 Safari/537.36'\n",
    "        }\n",
    "        \n",
    "        # Fetch webpage content with timeout and headers\n",
    "        response = requests.get(url.strip(), headers=headers, timeout=10)\n",
    "        response.raise_for_status()\n",
    "        \n",
    "        # Parse HTML\n",
    "        soup = BeautifulSoup(response.text, 'html.parser')\n",
    "        \n",
    "        # Remove unwanted elements\n",
    "        for element in soup(['script', 'style', 'nav', 'header', 'footer', 'aside']):\n",
    "            element.decompose()\n",
    "        \n",
    "        # Get text content\n",
    "        text = soup.get_text()\n",
    "        return clean_text(text)\n",
    "    except Exception as e:\n",
    "        logging.error(f\"Error processing URL: {str(e)}\")\n",
    "        return \"\"\n",
    "\n",
    "def generate_embeddings(text):\n",
    "    \"\"\"Generate embeddings using OpenAI ADA model\"\"\"\n",
    "    try:\n",
    "        response = client.embeddings.create(model=\"text-embedding-ada-002\", input=text)\n",
    "        return response['data'][0]['embedding']\n",
    "    except Exception as e:\n",
    "        logging.error(f\"Error generating embeddings: {str(e)}\")\n",
    "        return None\n",
    "\n",
    "def store_embeddings(text, source):\n",
    "    \"\"\"Store embeddings in ChromaDB\"\"\"\n",
    "    embedding = generate_embeddings(text)\n",
    "    if embedding:\n",
    "        chroma_client, collection = get_chroma_client()  # Ensure client is initialized\n",
    "        collection.add(\n",
    "            documents=[text],\n",
    "            metadatas=[{\"source\": source}],\n",
    "            ids=[f\"{source}_{len(collection)}\"]\n",
    "        )\n",
    "    else:\n",
    "        logging.error(\"Failed to store embedding\")\n",
    "\n",
    "def similarity_search(query, top_k=3):\n",
    "    \"\"\"Perform similarity search using ChromaDB\"\"\"\n",
    "    embedding = generate_embeddings(query)\n",
    "    if embedding:\n",
    "        chroma_client, collection = get_chroma_client()  # Ensure client is initialized\n",
    "        results = collection.query(\n",
    "            query_embeddings=[embedding],\n",
    "            n_results=top_k\n",
    "        )\n",
    "        return results['documents']\n",
    "    else:\n",
    "        return []\n",
    "\n",
    "def generate_response(prompt, context=\"\", model=\"gpt-3.5-turbo\", temperature=0.7):\n",
    "    \"\"\"Generate response using OpenAI API\"\"\"\n",
    "    try:\n",
    "        messages = [\n",
    "            {\n",
    "                \"role\": \"system\",\n",
    "                \"content\": \"You are a helpful financial assistant. Provide clear and concise answers to financial questions.\"\n",
    "            }\n",
    "        ]\n",
    "        \n",
    "        if context:\n",
    "            messages.append({\n",
    "                \"role\": \"system\",\n",
    "                \"content\": f\"Use this context for your response: {context}\"\n",
    "            })\n",
    "        \n",
    "        messages.append({\"role\": \"user\", \"content\": prompt})\n",
    "        \n",
    "        response = client.chat.completions.create(\n",
    "            model=model,\n",
    "            messages=messages,\n",
    "            temperature=temperature,\n",
    "            max_tokens=500\n",
    "        )\n",
    "        return response.choices[0].message.content\n",
    "    except Exception as e:\n",
    "        logging.error(f\"Error generating response: {str(e)}\")\n",
    "        return \"I apologize, but I encountered an error generating the response. Please try again.\"\n",
    "\n",
    "# Main Gradio interface setup\n",
    "def build_gradio_interface():\n",
    "    \"\"\"Build and launch the Gradio interface\"\"\"\n",
    "    with gr.Blocks() as demo:\n",
    "        gr.Markdown(\"# Financial Assistant with PDF and URL Support\")\n",
    "        \n",
    "        with gr.Row():\n",
    "            with gr.Column(scale=2):\n",
    "                query = gr.Textbox(\n",
    "                    label=\"Your Question\",\n",
    "                    placeholder=\"Ask any financial question...\",\n",
    "                    lines=3\n",
    "                )\n",
    "                \n",
    "                file_upload = gr.File(\n",
    "                    label=\"Upload PDF Document (Optional)\",\n",
    "                    file_types=[\".pdf\"],\n",
    "                    type=\"filepath\"\n",
    "                )\n",
    "                \n",
    "                url_input = gr.Textbox(\n",
    "                    label=\"Enter URL (Optional)\",\n",
    "                    placeholder=\"Paste a URL to extract text...\",\n",
    "                    lines=1\n",
    "                )\n",
    "                \n",
    "                submit_btn = gr.Button(\"Submit\", variant=\"primary\")\n",
    "                clear_btn = gr.Button(\"Clear\")\n",
    "\n",
    "            with gr.Column(scale=3):\n",
    "                chatbot = gr.Chatbot(label=\"Conversation\")\n",
    "                response_status = gr.Textbox(\n",
    "                    label=\"Status\",\n",
    "                    placeholder=\"Ready for your questions...\",\n",
    "                    interactive=False\n",
    "                )\n",
    "\n",
    "        def process_query(user_query, file_path, url):\n",
    "            \"\"\"Process user query and generate response\"\"\"\n",
    "            try:\n",
    "                context = \"\"\n",
    "                if file_path:\n",
    "                    logging.debug(f\"Processing PDF file: {file_path}\")\n",
    "                    pdf_text = extract_text_from_pdf(file_path)\n",
    "                    chunks = chunk_text(pdf_text)\n",
    "                    context = \" \".join(chunks[:3])  # Use first 3 chunks as context\n",
    "                elif url:\n",
    "                    logging.debug(f\"Processing URL: {url}\")\n",
    "                    url_text = extract_text_from_url(url)\n",
    "                    chunks = chunk_text(url_text)\n",
    "                    context = \" \".join(chunks[:3])  # Use first 3 chunks as context\n",
    "                \n",
    "                logging.debug(f\"Generating response for query: {user_query}\")\n",
    "                response = generate_response(user_query, context=context)\n",
    "                \n",
    "                return [(user_query, response)], \"Response generated successfully\"\n",
    "\n",
    "            except Exception as e:\n",
    "                error_message = f\"An error occurred: {str(e)}\"\n",
    "                logging.error(f\"{error_message}\\n{traceback.format_exc()}\")\n",
    "                return [[user_query, \"I apologize, but I encountered an error processing your request. Please try again.\"]], error_message\n",
    "\n",
    "        # Bind functions to Gradio interface\n",
    "        submit_btn.click(process_query, inputs=[query, file_upload, url_input], outputs=[chatbot, response_status])\n",
    "        clear_btn.click(lambda: ([], \"\"), None, [chatbot, response_status])\n",
    "\n",
    "    demo.launch(debug=True, share=True)\n",
    "\n",
    "# Start the Gradio interface\n",
    "build_gradio_interface()\n"
   ]
  }
 ],
 "metadata": {
  "colab": {
   "provenance": []
  },
  "kernelspec": {
   "display_name": "Python 3",
   "name": "python3"
  },
  "language_info": {
   "codemirror_mode": {
    "name": "ipython",
    "version": 3
   },
   "file_extension": ".py",
   "mimetype": "text/x-python",
   "name": "python",
   "nbconvert_exporter": "python",
   "pygments_lexer": "ipython3",
   "version": "3.12.5"
  }
 },
 "nbformat": 4,
 "nbformat_minor": 0
}
